{
  "nbformat": 4,
  "nbformat_minor": 0,
  "metadata": {
    "kernelspec": {
      "display_name": "Python 3",
      "language": "python",
      "name": "python3"
    },
    "language_info": {
      "codemirror_mode": {
        "name": "ipython",
        "version": 3
      },
      "file_extension": ".py",
      "mimetype": "text/x-python",
      "name": "python",
      "nbconvert_exporter": "python",
      "pygments_lexer": "ipython3",
      "version": "3.7.7"
    },
    "colab": {
      "name": "Sorta_GLM.ipynb",
      "provenance": []
    }
  },
  "cells": [
    {
      "cell_type": "markdown",
      "metadata": {
        "id": "zLFeS579k7Up"
      },
      "source": [
        "## Сорта GLM и как в них разбираться"
      ]
    },
    {
      "cell_type": "markdown",
      "metadata": {
        "id": "FhlK6uJWk7Uu"
      },
      "source": [
        "Импортируем основной набор пакетов, остальные по необходимости позднее:"
      ]
    },
    {
      "cell_type": "code",
      "metadata": {
        "colab": {
          "base_uri": "https://localhost:8080/"
        },
        "id": "Uv_C6Uqkk7Uv",
        "outputId": "7de98075-f060-4c20-e3fc-5785ade0725f"
      },
      "source": [
        "import pandas as pd\n",
        "import seaborn as sns\n",
        "import matplotlib.pyplot as plt\n",
        "import statsmodels.api as sm \n",
        "import statsmodels.formula.api as sf\n",
        "import numpy as np"
      ],
      "execution_count": 11,
      "outputs": [
        {
          "output_type": "stream",
          "name": "stderr",
          "text": [
            "/usr/local/lib/python3.7/dist-packages/statsmodels/tools/_testing.py:19: FutureWarning: pandas.util.testing is deprecated. Use the functions in the public API at pandas.testing instead.\n",
            "  import pandas.util.testing as tm\n"
          ]
        }
      ]
    },
    {
      "cell_type": "markdown",
      "metadata": {
        "id": "-Nu6t_hak7Ux"
      },
      "source": [
        "### Биномиальная регрессия"
      ]
    },
    {
      "cell_type": "markdown",
      "metadata": {
        "id": "vZ9zzHJWk7Uy"
      },
      "source": [
        "* Имя распределения - Бернулли (биномиальное с $n$ = 1)\n",
        "* Разброс значений ЗП - (0, 1)\n",
        "* Параметры - $p$ (вероятность успеха), $n$ (количество попыток)\n",
        "* Типичная функция связи - логит"
      ]
    },
    {
      "cell_type": "markdown",
      "metadata": {
        "id": "D1cWjRZ0k7Uy"
      },
      "source": [
        "Прочитаем уже многим знакомые данные с крушения Титаника:"
      ]
    },
    {
      "cell_type": "code",
      "metadata": {
        "id": "_ZiVVB_Lk7Uz"
      },
      "source": [
        "titanic = pd.read_csv('https://stepik.org/media/attachments/course/76/titanik_full_data_1.csv', sep = '\\t')"
      ],
      "execution_count": 3,
      "outputs": []
    },
    {
      "cell_type": "code",
      "metadata": {
        "colab": {
          "base_uri": "https://localhost:8080/",
          "height": 380
        },
        "id": "UWjVQ2qkk7U0",
        "outputId": "181fba51-995d-4ee6-d6af-06d97da41a29"
      },
      "source": [
        "titanic.head()"
      ],
      "execution_count": 4,
      "outputs": [
        {
          "output_type": "execute_result",
          "data": {
            "text/html": [
              "<div>\n",
              "<style scoped>\n",
              "    .dataframe tbody tr th:only-of-type {\n",
              "        vertical-align: middle;\n",
              "    }\n",
              "\n",
              "    .dataframe tbody tr th {\n",
              "        vertical-align: top;\n",
              "    }\n",
              "\n",
              "    .dataframe thead th {\n",
              "        text-align: right;\n",
              "    }\n",
              "</style>\n",
              "<table border=\"1\" class=\"dataframe\">\n",
              "  <thead>\n",
              "    <tr style=\"text-align: right;\">\n",
              "      <th></th>\n",
              "      <th>PassengerId</th>\n",
              "      <th>Survived</th>\n",
              "      <th>Pclass</th>\n",
              "      <th>Name</th>\n",
              "      <th>Sex</th>\n",
              "      <th>Age</th>\n",
              "      <th>SibSp</th>\n",
              "      <th>Parch</th>\n",
              "      <th>Ticket</th>\n",
              "      <th>Fare</th>\n",
              "      <th>Cabin</th>\n",
              "      <th>Embarked</th>\n",
              "    </tr>\n",
              "  </thead>\n",
              "  <tbody>\n",
              "    <tr>\n",
              "      <th>0</th>\n",
              "      <td>1</td>\n",
              "      <td>0</td>\n",
              "      <td>3</td>\n",
              "      <td>Braund, Mr. Owen Harris</td>\n",
              "      <td>male</td>\n",
              "      <td>22.0</td>\n",
              "      <td>1</td>\n",
              "      <td>0</td>\n",
              "      <td>A/5 21171</td>\n",
              "      <td>7.2500</td>\n",
              "      <td>NaN</td>\n",
              "      <td>S</td>\n",
              "    </tr>\n",
              "    <tr>\n",
              "      <th>1</th>\n",
              "      <td>2</td>\n",
              "      <td>1</td>\n",
              "      <td>1</td>\n",
              "      <td>Cumings, Mrs. John Bradley (Florence Briggs Th...</td>\n",
              "      <td>female</td>\n",
              "      <td>38.0</td>\n",
              "      <td>1</td>\n",
              "      <td>0</td>\n",
              "      <td>PC 17599</td>\n",
              "      <td>71.2833</td>\n",
              "      <td>C85</td>\n",
              "      <td>C</td>\n",
              "    </tr>\n",
              "    <tr>\n",
              "      <th>2</th>\n",
              "      <td>3</td>\n",
              "      <td>1</td>\n",
              "      <td>3</td>\n",
              "      <td>Heikkinen, Miss. Laina</td>\n",
              "      <td>female</td>\n",
              "      <td>26.0</td>\n",
              "      <td>0</td>\n",
              "      <td>0</td>\n",
              "      <td>STON/O2. 3101282</td>\n",
              "      <td>7.9250</td>\n",
              "      <td>NaN</td>\n",
              "      <td>S</td>\n",
              "    </tr>\n",
              "    <tr>\n",
              "      <th>3</th>\n",
              "      <td>4</td>\n",
              "      <td>1</td>\n",
              "      <td>1</td>\n",
              "      <td>Futrelle, Mrs. Jacques Heath (Lily May Peel)</td>\n",
              "      <td>female</td>\n",
              "      <td>35.0</td>\n",
              "      <td>1</td>\n",
              "      <td>0</td>\n",
              "      <td>113803</td>\n",
              "      <td>53.1000</td>\n",
              "      <td>C123</td>\n",
              "      <td>S</td>\n",
              "    </tr>\n",
              "    <tr>\n",
              "      <th>4</th>\n",
              "      <td>5</td>\n",
              "      <td>0</td>\n",
              "      <td>3</td>\n",
              "      <td>Allen, Mr. William Henry</td>\n",
              "      <td>male</td>\n",
              "      <td>35.0</td>\n",
              "      <td>0</td>\n",
              "      <td>0</td>\n",
              "      <td>373450</td>\n",
              "      <td>8.0500</td>\n",
              "      <td>NaN</td>\n",
              "      <td>S</td>\n",
              "    </tr>\n",
              "  </tbody>\n",
              "</table>\n",
              "</div>"
            ],
            "text/plain": [
              "   PassengerId  Survived  Pclass  ...     Fare Cabin  Embarked\n",
              "0            1         0       3  ...   7.2500   NaN         S\n",
              "1            2         1       1  ...  71.2833   C85         C\n",
              "2            3         1       3  ...   7.9250   NaN         S\n",
              "3            4         1       1  ...  53.1000  C123         S\n",
              "4            5         0       3  ...   8.0500   NaN         S\n",
              "\n",
              "[5 rows x 12 columns]"
            ]
          },
          "metadata": {},
          "execution_count": 4
        }
      ]
    },
    {
      "cell_type": "markdown",
      "metadata": {
        "id": "cm9pZJWdk7U1"
      },
      "source": [
        "Из всего этого набора мы возьмём только четыре столбца:\n",
        "\n",
        "- **Survived** - выжил ли пассажир или нет\n",
        "- **Sex** - пол пассажира\n",
        "- **Age** - возраст пассажира\n",
        "- **Pclass** - класс, в котором плыл пассажир (1, 2 или 3)"
      ]
    },
    {
      "cell_type": "markdown",
      "metadata": {
        "id": "psk1fWT0k7U2"
      },
      "source": [
        "Посмотрим на распределение выживших/погибших:"
      ]
    },
    {
      "cell_type": "code",
      "metadata": {
        "colab": {
          "base_uri": "https://localhost:8080/",
          "height": 312
        },
        "id": "Ymru-dPik7U3",
        "outputId": "2aa03d49-f674-4615-ba22-e43260a77c2f"
      },
      "source": [
        "sns.countplot(x = 'Survived', data = titanic)\n",
        "plt.xlabel('Выжил ли пассажир')\n",
        "plt.ylabel('Количество')\n",
        "plt.title('Судьба пассажиров Титаника')"
      ],
      "execution_count": 5,
      "outputs": [
        {
          "output_type": "execute_result",
          "data": {
            "text/plain": [
              "Text(0.5, 1.0, 'Судьба пассажиров Титаника')"
            ]
          },
          "metadata": {},
          "execution_count": 5
        },
        {
          "output_type": "display_data",
          "data": {
            "image/png": "[encoded data removed]",
            "text/plain": [
              "<Figure size 432x288 with 1 Axes>"
            ]
          },
          "metadata": {
            "needs_background": "light"
          }
        }
      ]
    },
    {
      "cell_type": "markdown",
      "metadata": {
        "id": "a1Q9dDK_k7U4"
      },
      "source": [
        "Применим логистическую регрессию. С помощью `С()` мы указываем категориальные переменные в формуле."
      ]
    },
    {
      "cell_type": "code",
      "metadata": {
        "id": "P0iOaEzmk7U4"
      },
      "source": [
        "logit_res = sf.glm('Survived ~ C(Pclass) + C(Sex) + Age', titanic, family = sm.families.Binomial()).fit()"
      ],
      "execution_count": 6,
      "outputs": []
    },
    {
      "cell_type": "code",
      "metadata": {
        "id": "h0QRLkVak7U4",
        "outputId": "e0dd3778-cd14-4589-9a26-7558c707a344"
      },
      "source": [
        "logit_res.summary()"
      ],
      "execution_count": null,
      "outputs": [
        {
          "data": {
            "text/html": [
              "<table class=\"simpletable\">\n",
              "<caption>Generalized Linear Model Regression Results</caption>\n",
              "<tr>\n",
              "  <th>Dep. Variable:</th>       <td>Survived</td>     <th>  No. Observations:  </th>  <td>  1046</td> \n",
              "</tr>\n",
              "<tr>\n",
              "  <th>Model:</th>                  <td>GLM</td>       <th>  Df Residuals:      </th>  <td>  1041</td> \n",
              "</tr>\n",
              "<tr>\n",
              "  <th>Model Family:</th>        <td>Binomial</td>     <th>  Df Model:          </th>  <td>     4</td> \n",
              "</tr>\n",
              "<tr>\n",
              "  <th>Link Function:</th>         <td>logit</td>      <th>  Scale:             </th> <td>  1.0000</td>\n",
              "</tr>\n",
              "<tr>\n",
              "  <th>Method:</th>                <td>IRLS</td>       <th>  Log-Likelihood:    </th> <td> -398.21</td>\n",
              "</tr>\n",
              "<tr>\n",
              "  <th>Date:</th>            <td>Thu, 27 Aug 2020</td> <th>  Deviance:          </th> <td>  796.42</td>\n",
              "</tr>\n",
              "<tr>\n",
              "  <th>Time:</th>                <td>14:28:11</td>     <th>  Pearson chi2:      </th> <td>1.10e+03</td>\n",
              "</tr>\n",
              "<tr>\n",
              "  <th>No. Iterations:</th>          <td>5</td>        <th>                     </th>     <td> </td>   \n",
              "</tr>\n",
              "<tr>\n",
              "  <th>Covariance Type:</th>     <td>nonrobust</td>    <th>                     </th>     <td> </td>   \n",
              "</tr>\n",
              "</table>\n",
              "<table class=\"simpletable\">\n",
              "<tr>\n",
              "         <td></td>           <th>coef</th>     <th>std err</th>      <th>z</th>      <th>P>|z|</th>  <th>[0.025</th>    <th>0.975]</th>  \n",
              "</tr>\n",
              "<tr>\n",
              "  <th>Intercept</th>      <td>    3.9568</td> <td>    0.372</td> <td>   10.641</td> <td> 0.000</td> <td>    3.228</td> <td>    4.686</td>\n",
              "</tr>\n",
              "<tr>\n",
              "  <th>C(Pclass)[T.2]</th> <td>   -1.2370</td> <td>    0.256</td> <td>   -4.833</td> <td> 0.000</td> <td>   -1.739</td> <td>   -0.735</td>\n",
              "</tr>\n",
              "<tr>\n",
              "  <th>C(Pclass)[T.3]</th> <td>   -2.2390</td> <td>    0.256</td> <td>   -8.759</td> <td> 0.000</td> <td>   -2.740</td> <td>   -1.738</td>\n",
              "</tr>\n",
              "<tr>\n",
              "  <th>C(Sex)[T.male]</th> <td>   -3.5601</td> <td>    0.196</td> <td>  -18.158</td> <td> 0.000</td> <td>   -3.944</td> <td>   -3.176</td>\n",
              "</tr>\n",
              "<tr>\n",
              "  <th>Age</th>            <td>   -0.0313</td> <td>    0.007</td> <td>   -4.407</td> <td> 0.000</td> <td>   -0.045</td> <td>   -0.017</td>\n",
              "</tr>\n",
              "</table>"
            ],
            "text/plain": [
              "<class 'statsmodels.iolib.summary.Summary'>\n",
              "\"\"\"\n",
              "                 Generalized Linear Model Regression Results                  \n",
              "==============================================================================\n",
              "Dep. Variable:               Survived   No. Observations:                 1046\n",
              "Model:                            GLM   Df Residuals:                     1041\n",
              "Model Family:                Binomial   Df Model:                            4\n",
              "Link Function:                  logit   Scale:                          1.0000\n",
              "Method:                          IRLS   Log-Likelihood:                -398.21\n",
              "Date:                Thu, 27 Aug 2020   Deviance:                       796.42\n",
              "Time:                        14:28:11   Pearson chi2:                 1.10e+03\n",
              "No. Iterations:                     5                                         \n",
              "Covariance Type:            nonrobust                                         \n",
              "==================================================================================\n",
              "                     coef    std err          z      P>|z|      [0.025      0.975]\n",
              "----------------------------------------------------------------------------------\n",
              "Intercept          3.9568      0.372     10.641      0.000       3.228       4.686\n",
              "C(Pclass)[T.2]    -1.2370      0.256     -4.833      0.000      -1.739      -0.735\n",
              "C(Pclass)[T.3]    -2.2390      0.256     -8.759      0.000      -2.740      -1.738\n",
              "C(Sex)[T.male]    -3.5601      0.196    -18.158      0.000      -3.944      -3.176\n",
              "Age               -0.0313      0.007     -4.407      0.000      -0.045      -0.017\n",
              "==================================================================================\n",
              "\"\"\""
            ]
          },
          "execution_count": 6,
          "metadata": {},
          "output_type": "execute_result"
        }
      ]
    },
    {
      "cell_type": "markdown",
      "metadata": {
        "id": "QHP-yiokk7U5"
      },
      "source": [
        "`Intercept` - шансы выжить (логарифмические) для женщины в первом классе, которой 0 лет. \n",
        "\n",
        "- Все коэффициенты значимы (`P>|z|` меньше 0.05)\n",
        "- Шансы выжить во втором классе ниже, чем в первом, а в третьем ещё ниже\n",
        "- Быть мужчиной на Титанике ещё хуже\n",
        "- А также плохо быть старше на Титанике"
      ]
    },
    {
      "cell_type": "markdown",
      "metadata": {
        "id": "OKmjOysgk7U5"
      },
      "source": [
        "### Мультиномиальная регрессия"
      ]
    },
    {
      "cell_type": "markdown",
      "metadata": {
        "id": "RD-mJwT7k7U6"
      },
      "source": [
        "* Имя распределения - мультиномиальное\n",
        "* Разброс значений - (1...$n$)\n",
        "* Параметры - $p_1$...$p_n$ (вероятность каждого события), $n$ (количество попыток)\n",
        "* Типичная функция связи - мультиномиальный логит"
      ]
    },
    {
      "cell_type": "code",
      "metadata": {
        "colab": {
          "base_uri": "https://localhost:8080/",
          "height": 312
        },
        "id": "15XKQLLOk7U6",
        "outputId": "c9b5cf5a-5d7c-48a8-c3be-46dfc5da2804"
      },
      "source": [
        "sns.countplot(x = 'Pclass', data = titanic)\n",
        "plt.xlabel('Класс')\n",
        "plt.ylabel('Количество')\n",
        "plt.title('Пассажирские классы')"
      ],
      "execution_count": 7,
      "outputs": [
        {
          "output_type": "execute_result",
          "data": {
            "text/plain": [
              "Text(0.5, 1.0, 'Пассажирские классы')"
            ]
          },
          "metadata": {},
          "execution_count": 7
        },
        {
          "output_type": "display_data",
          "data": {
            "image/png": "[encoded data removed]",
            "text/plain": [
              "<Figure size 432x288 with 1 Axes>"
            ]
          },
          "metadata": {
            "needs_background": "light"
          }
        }
      ]
    },
    {
      "cell_type": "markdown",
      "metadata": {
        "id": "kUXPJo13k7U7"
      },
      "source": [
        "Строим модель:"
      ]
    },
    {
      "cell_type": "code",
      "metadata": {
        "colab": {
          "base_uri": "https://localhost:8080/",
          "height": 411
        },
        "id": "sfstOkEyk7U7",
        "outputId": "6c035d98-af6a-4b35-a685-9142b9024dc6"
      },
      "source": [
        "multi_res = sf.mnlogit('Pclass ~ C(Sex) + Age', titanic).fit()\n",
        "multi_res.summary()"
      ],
      "execution_count": 8,
      "outputs": [
        {
          "output_type": "stream",
          "name": "stdout",
          "text": [
            "Optimization terminated successfully.\n",
            "         Current function value: 0.944697\n",
            "         Iterations 5\n"
          ]
        },
        {
          "output_type": "execute_result",
          "data": {
            "text/html": [
              "<table class=\"simpletable\">\n",
              "<caption>MNLogit Regression Results</caption>\n",
              "<tr>\n",
              "  <th>Dep. Variable:</th>        <td>Pclass</td>      <th>  No. Observations:  </th>  <td>  1046</td>  \n",
              "</tr>\n",
              "<tr>\n",
              "  <th>Model:</th>                <td>MNLogit</td>     <th>  Df Residuals:      </th>  <td>  1040</td>  \n",
              "</tr>\n",
              "<tr>\n",
              "  <th>Method:</th>                 <td>MLE</td>       <th>  Df Model:          </th>  <td>     4</td>  \n",
              "</tr>\n",
              "<tr>\n",
              "  <th>Date:</th>            <td>Wed, 06 Oct 2021</td> <th>  Pseudo R-squ.:     </th>  <td>0.1028</td>  \n",
              "</tr>\n",
              "<tr>\n",
              "  <th>Time:</th>                <td>17:28:05</td>     <th>  Log-Likelihood:    </th> <td> -988.15</td> \n",
              "</tr>\n",
              "<tr>\n",
              "  <th>converged:</th>             <td>True</td>       <th>  LL-Null:           </th> <td> -1101.4</td> \n",
              "</tr>\n",
              "<tr>\n",
              "  <th>Covariance Type:</th>     <td>nonrobust</td>    <th>  LLR p-value:       </th> <td>7.608e-48</td>\n",
              "</tr>\n",
              "</table>\n",
              "<table class=\"simpletable\">\n",
              "<tr>\n",
              "     <th>Pclass=2</th>       <th>coef</th>     <th>std err</th>      <th>z</th>      <th>P>|z|</th>  <th>[0.025</th>    <th>0.975]</th>  \n",
              "</tr>\n",
              "<tr>\n",
              "  <th>Intercept</th>      <td>    1.4181</td> <td>    0.253</td> <td>    5.611</td> <td> 0.000</td> <td>    0.923</td> <td>    1.913</td>\n",
              "</tr>\n",
              "<tr>\n",
              "  <th>C(Sex)[T.male]</th> <td>    0.4934</td> <td>    0.183</td> <td>    2.691</td> <td> 0.007</td> <td>    0.134</td> <td>    0.853</td>\n",
              "</tr>\n",
              "<tr>\n",
              "  <th>Age</th>            <td>   -0.0522</td> <td>    0.007</td> <td>   -7.728</td> <td> 0.000</td> <td>   -0.065</td> <td>   -0.039</td>\n",
              "</tr>\n",
              "<tr>\n",
              "     <th>Pclass=3</th>       <th>coef</th>     <th>std err</th>      <th>z</th>      <th>P>|z|</th>  <th>[0.025</th>    <th>0.975]</th>  \n",
              "</tr>\n",
              "<tr>\n",
              "  <th>Intercept</th>      <td>    2.6021</td> <td>    0.239</td> <td>   10.900</td> <td> 0.000</td> <td>    2.134</td> <td>    3.070</td>\n",
              "</tr>\n",
              "<tr>\n",
              "  <th>C(Sex)[T.male]</th> <td>    1.0119</td> <td>    0.174</td> <td>    5.824</td> <td> 0.000</td> <td>    0.671</td> <td>    1.352</td>\n",
              "</tr>\n",
              "<tr>\n",
              "  <th>Age</th>            <td>   -0.0843</td> <td>    0.007</td> <td>  -12.514</td> <td> 0.000</td> <td>   -0.098</td> <td>   -0.071</td>\n",
              "</tr>\n",
              "</table>"
            ],
            "text/plain": [
              "<class 'statsmodels.iolib.summary.Summary'>\n",
              "\"\"\"\n",
              "                          MNLogit Regression Results                          \n",
              "==============================================================================\n",
              "Dep. Variable:                 Pclass   No. Observations:                 1046\n",
              "Model:                        MNLogit   Df Residuals:                     1040\n",
              "Method:                           MLE   Df Model:                            4\n",
              "Date:                Wed, 06 Oct 2021   Pseudo R-squ.:                  0.1028\n",
              "Time:                        17:28:05   Log-Likelihood:                -988.15\n",
              "converged:                       True   LL-Null:                       -1101.4\n",
              "Covariance Type:            nonrobust   LLR p-value:                 7.608e-48\n",
              "==================================================================================\n",
              "      Pclass=2       coef    std err          z      P>|z|      [0.025      0.975]\n",
              "----------------------------------------------------------------------------------\n",
              "Intercept          1.4181      0.253      5.611      0.000       0.923       1.913\n",
              "C(Sex)[T.male]     0.4934      0.183      2.691      0.007       0.134       0.853\n",
              "Age               -0.0522      0.007     -7.728      0.000      -0.065      -0.039\n",
              "----------------------------------------------------------------------------------\n",
              "      Pclass=3       coef    std err          z      P>|z|      [0.025      0.975]\n",
              "----------------------------------------------------------------------------------\n",
              "Intercept          2.6021      0.239     10.900      0.000       2.134       3.070\n",
              "C(Sex)[T.male]     1.0119      0.174      5.824      0.000       0.671       1.352\n",
              "Age               -0.0843      0.007    -12.514      0.000      -0.098      -0.071\n",
              "==================================================================================\n",
              "\"\"\""
            ]
          },
          "metadata": {},
          "execution_count": 8
        }
      ]
    },
    {
      "cell_type": "markdown",
      "metadata": {
        "id": "sZ9xPr8sk7U7"
      },
      "source": [
        "Результат интерпретируем относительно первого класса:\n",
        "\n",
        "- Мужчин больше во втором, а в третьем ещё больше\n",
        "- Судя по тому, что интерцепт тоже больше (а в него входят женщины), женщин тоже больше => в других классах просто больше людей\n",
        "- У возраста обратная зависимость"
      ]
    },
    {
      "cell_type": "markdown",
      "metadata": {
        "id": "EN3HYBNgk7U8"
      },
      "source": [
        "### Порядковая регрессия"
      ]
    },
    {
      "cell_type": "markdown",
      "metadata": {
        "id": "OjWjbyRpk7U8"
      },
      "source": [
        "* Имя распределения - кумулятивное пороговое\n",
        "* Разброс значений - (1...$n$)\n",
        "* Параметры - $p_1$...$p_n$ (вероятность каждого события)\n",
        "* Типичная функция связи - порядковый логит"
      ]
    },
    {
      "cell_type": "markdown",
      "metadata": {
        "id": "5EOW_WH-k7U8"
      },
      "source": [
        "Качаем пакет `bevel` - его нет на `pip`, нужно ставить с [Гитхаба](https://github.com/Shopify/bevel). Про то, как устанавливать пакеты с Гитхаба, читайте [пост на StackOverflow](https://stackoverflow.com/questions/15268953/how-to-install-python-package-from-github)."
      ]
    },
    {
      "cell_type": "code",
      "metadata": {
        "colab": {
          "base_uri": "https://localhost:8080/"
        },
        "id": "liVqeiL0kr0J",
        "outputId": "c89b1989-f0b7-4914-ff88-e892de91989a"
      },
      "source": [
        "pip install git+https://github.com/Shopify/bevel.git#egg=bevel"
      ],
      "execution_count": 2,
      "outputs": [
        {
          "output_type": "stream",
          "name": "stdout",
          "text": [
            "Collecting bevel\n",
            "  Cloning https://github.com/Shopify/bevel.git to /tmp/pip-install-ehd2zt6l/bevel_79fde79d5338474f85020b81f8ee403c\n",
            "  Running command git clone -q https://github.com/Shopify/bevel.git /tmp/pip-install-ehd2zt6l/bevel_79fde79d5338474f85020b81f8ee403c\n",
            "Building wheels for collected packages: bevel\n",
            "  Building wheel for bevel (setup.py) ... \u001b[?25l\u001b[?25hdone\n",
            "  Created wheel for bevel: filename=bevel-0.1.0-py3-none-any.whl size=11994 sha256=8521e6a229bac187e398cff7db2bcecbd7810447aa4b938866faa13b1ed7bc45\n",
            "  Stored in directory: /tmp/pip-ephem-wheel-cache-i30hs3r_/wheels/05/59/d2/5461b672cbb2f54f93ac944df5c69502ded20d84243db9c470\n",
            "Successfully built bevel\n",
            "Installing collected packages: bevel\n",
            "Successfully installed bevel-0.1.0\n"
          ]
        }
      ]
    },
    {
      "cell_type": "code",
      "metadata": {
        "colab": {
          "base_uri": "https://localhost:8080/"
        },
        "id": "Rt4TWBXYn0L1",
        "outputId": "8c906814-b904-457c-f0e9-9f03ba423bc2"
      },
      "source": [
        "pip install numdifftools"
      ],
      "execution_count": 7,
      "outputs": [
        {
          "output_type": "stream",
          "name": "stdout",
          "text": [
            "Collecting numdifftools\n",
            "  Downloading numdifftools-0.9.40-py2.py3-none-any.whl (99 kB)\n",
            "\u001b[?25l\r\u001b[K     |███▎                            | 10 kB 18.2 MB/s eta 0:00:01\r\u001b[K     |██████▋                         | 20 kB 10.2 MB/s eta 0:00:01\r\u001b[K     |██████████                      | 30 kB 5.9 MB/s eta 0:00:01\r\u001b[K     |█████████████▏                  | 40 kB 5.4 MB/s eta 0:00:01\r\u001b[K     |████████████████▌               | 51 kB 2.8 MB/s eta 0:00:01\r\u001b[K     |███████████████████▉            | 61 kB 3.0 MB/s eta 0:00:01\r\u001b[K     |███████████████████████▏        | 71 kB 3.0 MB/s eta 0:00:01\r\u001b[K     |██████████████████████████▍     | 81 kB 3.4 MB/s eta 0:00:01\r\u001b[K     |█████████████████████████████▊  | 92 kB 3.5 MB/s eta 0:00:01\r\u001b[K     |████████████████████████████████| 99 kB 2.6 MB/s \n",
            "\u001b[?25hRequirement already satisfied: numpy>=1.9 in /usr/local/lib/python3.7/dist-packages (from numdifftools) (1.19.5)\n",
            "Collecting algopy>=0.4\n",
            "  Downloading algopy-0.5.7.zip (189 kB)\n",
            "\u001b[K     |████████████████████████████████| 189 kB 18.2 MB/s \n",
            "\u001b[?25hRequirement already satisfied: statsmodels>=0.6 in /usr/local/lib/python3.7/dist-packages (from numdifftools) (0.10.2)\n",
            "Requirement already satisfied: scipy>=0.8 in /usr/local/lib/python3.7/dist-packages (from numdifftools) (1.4.1)\n",
            "Requirement already satisfied: pandas>=0.19 in /usr/local/lib/python3.7/dist-packages (from statsmodels>=0.6->numdifftools) (1.1.5)\n",
            "Requirement already satisfied: patsy>=0.4.0 in /usr/local/lib/python3.7/dist-packages (from statsmodels>=0.6->numdifftools) (0.5.2)\n",
            "Requirement already satisfied: python-dateutil>=2.7.3 in /usr/local/lib/python3.7/dist-packages (from pandas>=0.19->statsmodels>=0.6->numdifftools) (2.8.2)\n",
            "Requirement already satisfied: pytz>=2017.2 in /usr/local/lib/python3.7/dist-packages (from pandas>=0.19->statsmodels>=0.6->numdifftools) (2018.9)\n",
            "Requirement already satisfied: six in /usr/local/lib/python3.7/dist-packages (from patsy>=0.4.0->statsmodels>=0.6->numdifftools) (1.15.0)\n",
            "Building wheels for collected packages: algopy\n",
            "  Building wheel for algopy (setup.py) ... \u001b[?25l\u001b[?25hdone\n",
            "  Created wheel for algopy: filename=algopy-0.5.7-py3-none-any.whl size=107608 sha256=536dd67508dd8b0e4d030e72baa7824173670f5ce98c2e679096124204553cf8\n",
            "  Stored in directory: /root/.cache/pip/wheels/a8/fd/06/21dc6aba9f680fdbde386c06b1a8a1cf3d9a5f6bd96e31dcd4\n",
            "Successfully built algopy\n",
            "Installing collected packages: algopy, numdifftools\n",
            "Successfully installed algopy-0.5.7 numdifftools-0.9.40\n"
          ]
        }
      ]
    },
    {
      "cell_type": "code",
      "metadata": {
        "id": "ffprzQWfn9EQ"
      },
      "source": [
        "from bevel.linear_ordinal_regression import OrderedLogit"
      ],
      "execution_count": 9,
      "outputs": []
    },
    {
      "cell_type": "markdown",
      "metadata": {
        "id": "6k6E2L_9k7U9"
      },
      "source": [
        "В следующем датасете оценивали качество красных вин с разными химическими характеристиками."
      ]
    },
    {
      "cell_type": "code",
      "metadata": {
        "id": "T5eZ9d8rk7U-"
      },
      "source": [
        "wines = pd.read_csv('https://vk.com/doc30920861_565726054?hash=e8efaf5ed2a5bd1ac4&dl=531fdb52320734f51b', sep = ';')"
      ],
      "execution_count": 12,
      "outputs": []
    },
    {
      "cell_type": "code",
      "metadata": {
        "colab": {
          "base_uri": "https://localhost:8080/",
          "height": 261
        },
        "id": "YXCErTO1k7U-",
        "outputId": "69753628-22a9-44fb-939f-4f9387aee558"
      },
      "source": [
        "wines.head()"
      ],
      "execution_count": 13,
      "outputs": [
        {
          "output_type": "execute_result",
          "data": {
            "text/html": [
              "<div>\n",
              "<style scoped>\n",
              "    .dataframe tbody tr th:only-of-type {\n",
              "        vertical-align: middle;\n",
              "    }\n",
              "\n",
              "    .dataframe tbody tr th {\n",
              "        vertical-align: top;\n",
              "    }\n",
              "\n",
              "    .dataframe thead th {\n",
              "        text-align: right;\n",
              "    }\n",
              "</style>\n",
              "<table border=\"1\" class=\"dataframe\">\n",
              "  <thead>\n",
              "    <tr style=\"text-align: right;\">\n",
              "      <th></th>\n",
              "      <th>fixed acidity</th>\n",
              "      <th>volatile acidity</th>\n",
              "      <th>citric acid</th>\n",
              "      <th>residual sugar</th>\n",
              "      <th>chlorides</th>\n",
              "      <th>free sulfur dioxide</th>\n",
              "      <th>total sulfur dioxide</th>\n",
              "      <th>density</th>\n",
              "      <th>pH</th>\n",
              "      <th>sulphates</th>\n",
              "      <th>alcohol</th>\n",
              "      <th>quality</th>\n",
              "    </tr>\n",
              "  </thead>\n",
              "  <tbody>\n",
              "    <tr>\n",
              "      <th>0</th>\n",
              "      <td>7.4</td>\n",
              "      <td>0.70</td>\n",
              "      <td>0.00</td>\n",
              "      <td>1.9</td>\n",
              "      <td>0.076</td>\n",
              "      <td>11.0</td>\n",
              "      <td>34.0</td>\n",
              "      <td>0.9978</td>\n",
              "      <td>3.51</td>\n",
              "      <td>0.56</td>\n",
              "      <td>9.4</td>\n",
              "      <td>5</td>\n",
              "    </tr>\n",
              "    <tr>\n",
              "      <th>1</th>\n",
              "      <td>7.8</td>\n",
              "      <td>0.88</td>\n",
              "      <td>0.00</td>\n",
              "      <td>2.6</td>\n",
              "      <td>0.098</td>\n",
              "      <td>25.0</td>\n",
              "      <td>67.0</td>\n",
              "      <td>0.9968</td>\n",
              "      <td>3.20</td>\n",
              "      <td>0.68</td>\n",
              "      <td>9.8</td>\n",
              "      <td>5</td>\n",
              "    </tr>\n",
              "    <tr>\n",
              "      <th>2</th>\n",
              "      <td>7.8</td>\n",
              "      <td>0.76</td>\n",
              "      <td>0.04</td>\n",
              "      <td>2.3</td>\n",
              "      <td>0.092</td>\n",
              "      <td>15.0</td>\n",
              "      <td>54.0</td>\n",
              "      <td>0.9970</td>\n",
              "      <td>3.26</td>\n",
              "      <td>0.65</td>\n",
              "      <td>9.8</td>\n",
              "      <td>5</td>\n",
              "    </tr>\n",
              "    <tr>\n",
              "      <th>3</th>\n",
              "      <td>11.2</td>\n",
              "      <td>0.28</td>\n",
              "      <td>0.56</td>\n",
              "      <td>1.9</td>\n",
              "      <td>0.075</td>\n",
              "      <td>17.0</td>\n",
              "      <td>60.0</td>\n",
              "      <td>0.9980</td>\n",
              "      <td>3.16</td>\n",
              "      <td>0.58</td>\n",
              "      <td>9.8</td>\n",
              "      <td>6</td>\n",
              "    </tr>\n",
              "    <tr>\n",
              "      <th>4</th>\n",
              "      <td>7.4</td>\n",
              "      <td>0.70</td>\n",
              "      <td>0.00</td>\n",
              "      <td>1.9</td>\n",
              "      <td>0.076</td>\n",
              "      <td>11.0</td>\n",
              "      <td>34.0</td>\n",
              "      <td>0.9978</td>\n",
              "      <td>3.51</td>\n",
              "      <td>0.56</td>\n",
              "      <td>9.4</td>\n",
              "      <td>5</td>\n",
              "    </tr>\n",
              "  </tbody>\n",
              "</table>\n",
              "</div>"
            ],
            "text/plain": [
              "   fixed acidity  volatile acidity  citric acid  ...  sulphates  alcohol  quality\n",
              "0            7.4              0.70         0.00  ...       0.56      9.4        5\n",
              "1            7.8              0.88         0.00  ...       0.68      9.8        5\n",
              "2            7.8              0.76         0.04  ...       0.65      9.8        5\n",
              "3           11.2              0.28         0.56  ...       0.58      9.8        6\n",
              "4            7.4              0.70         0.00  ...       0.56      9.4        5\n",
              "\n",
              "[5 rows x 12 columns]"
            ]
          },
          "metadata": {},
          "execution_count": 13
        }
      ]
    },
    {
      "cell_type": "markdown",
      "metadata": {
        "id": "zFwrJLRSk7U-"
      },
      "source": [
        "Глянем на распределение рейтингов (переменная `quality`):"
      ]
    },
    {
      "cell_type": "code",
      "metadata": {
        "colab": {
          "base_uri": "https://localhost:8080/",
          "height": 312
        },
        "id": "zOtm21cHk7U-",
        "outputId": "08065282-927e-49aa-f973-a77fa9104b3d"
      },
      "source": [
        "sns.countplot(x = 'quality', data = wines)\n",
        "plt.xlabel('Оценка')\n",
        "plt.ylabel('Количество')\n",
        "plt.title('Рейтинг красных вин')"
      ],
      "execution_count": 14,
      "outputs": [
        {
          "output_type": "execute_result",
          "data": {
            "text/plain": [
              "Text(0.5, 1.0, 'Рейтинг красных вин')"
            ]
          },
          "metadata": {},
          "execution_count": 14
        },
        {
          "output_type": "display_data",
          "data": {
            "image/png": "[encoded data removed]",
            "text/plain": [
              "<Figure size 432x288 with 1 Axes>"
            ]
          },
          "metadata": {
            "needs_background": "light"
          }
        }
      ]
    },
    {
      "cell_type": "markdown",
      "metadata": {
        "id": "WEPrgk4ik7U_"
      },
      "source": [
        "Так как этот пакет не подерживает формулы, нам нужно выделить ЗП и НП в отдельные переменные:"
      ]
    },
    {
      "cell_type": "code",
      "metadata": {
        "id": "gagvDTMTk7U_"
      },
      "source": [
        "Y = wines.quality\n",
        "X = wines.drop('quality', axis = 1)"
      ],
      "execution_count": 15,
      "outputs": []
    },
    {
      "cell_type": "markdown",
      "metadata": {
        "id": "4fNDiYqpk7U_"
      },
      "source": [
        "Строим модель (здесь сначала идут НП, затем ЗП):"
      ]
    },
    {
      "cell_type": "code",
      "metadata": {
        "colab": {
          "base_uri": "https://localhost:8080/"
        },
        "id": "7ovcclm2k7VA",
        "outputId": "ba6862f6-a0ac-48d8-87b8-3e33924aa007"
      },
      "source": [
        "ol = OrderedLogit()\n",
        "ol.fit(X, Y)"
      ],
      "execution_count": 16,
      "outputs": [
        {
          "output_type": "execute_result",
          "data": {
            "text/plain": [
              "<bevel.linear_ordinal_regression.OrderedLogit at 0x7fea92f9d790>"
            ]
          },
          "metadata": {},
          "execution_count": 16
        }
      ]
    },
    {
      "cell_type": "code",
      "metadata": {
        "colab": {
          "base_uri": "https://localhost:8080/"
        },
        "id": "fHsweHw9k7VA",
        "outputId": "b6c08a79-5aaf-42ff-ef6e-96a73430f733"
      },
      "source": [
        "ol.print_summary()"
      ],
      "execution_count": 17,
      "outputs": [
        {
          "output_type": "stream",
          "name": "stdout",
          "text": [
            "n=1599\n",
            "                         beta  se(beta)      p  lower 0.95  upper 0.95     \n",
            "attribute names                                                            \n",
            "fixed acidity          0.1284    0.0823 0.1188     -0.0329      0.2898     \n",
            "volatile acidity      -3.3957    0.4031 0.0000     -4.1857     -2.6058  ***\n",
            "citric acid           -0.8022    0.4622 0.0827     -1.7081      0.1038    .\n",
            "residual sugar         0.0878    0.0480 0.0670     -0.0062      0.1818    .\n",
            "chlorides             -5.1416    1.3595 0.0002     -7.8062     -2.4770  ***\n",
            "free sulfur dioxide    0.0137    0.0068 0.0444      0.0003      0.0270    *\n",
            "total sulfur dioxide  -0.0111    0.0024 0.0000     -0.0158     -0.0065  ***\n",
            "density              -76.5142   68.3658 0.2631   -210.5087     57.4802     \n",
            "pH                    -0.8469    0.6009 0.1587     -2.0246      0.3309     \n",
            "sulphates              2.9016    0.3675 0.0000      2.1814      3.6218  ***\n",
            "alcohol                0.8308    0.0852 0.0000      0.6637      0.9978  ***\n",
            "---\n",
            "Signif. codes:  0 '***' 0.001 '**' 0.01 '*' 0.05 '.' 0.1 ' ' 1 \n",
            "\n",
            "Somers' D = 0.481\n"
          ]
        }
      ]
    },
    {
      "cell_type": "markdown",
      "metadata": {
        "id": "IaSg9H0zk7VA"
      },
      "source": [
        "`Somers' D` - это как $R^2$, только для порядковых моделей и меняется от -1 до 1 (как корреляция). Чем он больше и положительнее - тем лучше."
      ]
    },
    {
      "cell_type": "markdown",
      "metadata": {
        "id": "x84VJBFvk7VB"
      },
      "source": [
        "Плохо на рейтинги влияют:\n",
        "\n",
        "- летучая кислотность\n",
        "- содержание хлоридов\n",
        "- общее содержание диоксида серы\n",
        "\n",
        "Хорошо влияет:\n",
        "\n",
        "- свободный диоксид серы (тут значимость спорная)\n",
        "- содержание сульфатов\n",
        "- содержание алкоголя"
      ]
    },
    {
      "cell_type": "markdown",
      "metadata": {
        "id": "LUBMqpP6k7VB"
      },
      "source": [
        "Ещё есть более богатый на модели и документацию пакет `mord` (документация [вот тут](https://pythonhosted.org/mord/)), который можно скачать через `pip`. Но он настроен на построение предсказательных моделей и не даёт статистического вывода."
      ]
    },
    {
      "cell_type": "markdown",
      "metadata": {
        "id": "caWSeO86k7VB"
      },
      "source": [
        "### Регрессия количеств"
      ]
    },
    {
      "cell_type": "markdown",
      "metadata": {
        "id": "txmYYqafk7VB"
      },
      "source": [
        "* Имя распределения - Пуассона\n",
        "* Разброс значений - (0;$\\infty$)\n",
        "* Параметры - $\\lambda$ (темп)\n",
        "* Типичная функция связи - логарифм"
      ]
    },
    {
      "cell_type": "markdown",
      "metadata": {
        "id": "Ix6lOS4Wk7VC"
      },
      "source": [
        "Используем данные по владельцам кредитных карточек:"
      ]
    },
    {
      "cell_type": "code",
      "metadata": {
        "id": "_ufHcSd6k7VC"
      },
      "source": [
        "credit = pd.read_csv('https://stepik.org/media/attachments/course/76/credit_card__1_.csv')"
      ],
      "execution_count": 20,
      "outputs": []
    },
    {
      "cell_type": "code",
      "metadata": {
        "colab": {
          "base_uri": "https://localhost:8080/",
          "height": 226
        },
        "id": "n7mFAMwtk7VC",
        "outputId": "6228e2fb-98ed-4e79-e2e5-cf286ee5e698"
      },
      "source": [
        "credit.head()"
      ],
      "execution_count": 21,
      "outputs": [
        {
          "output_type": "execute_result",
          "data": {
            "text/html": [
              "<div>\n",
              "<style scoped>\n",
              "    .dataframe tbody tr th:only-of-type {\n",
              "        vertical-align: middle;\n",
              "    }\n",
              "\n",
              "    .dataframe tbody tr th {\n",
              "        vertical-align: top;\n",
              "    }\n",
              "\n",
              "    .dataframe thead th {\n",
              "        text-align: right;\n",
              "    }\n",
              "</style>\n",
              "<table border=\"1\" class=\"dataframe\">\n",
              "  <thead>\n",
              "    <tr style=\"text-align: right;\">\n",
              "      <th></th>\n",
              "      <th>card</th>\n",
              "      <th>reports</th>\n",
              "      <th>age</th>\n",
              "      <th>income</th>\n",
              "      <th>share</th>\n",
              "      <th>expenditure</th>\n",
              "      <th>owner</th>\n",
              "      <th>selfemp</th>\n",
              "      <th>dependents</th>\n",
              "      <th>months</th>\n",
              "      <th>majorcards</th>\n",
              "      <th>active</th>\n",
              "    </tr>\n",
              "  </thead>\n",
              "  <tbody>\n",
              "    <tr>\n",
              "      <th>0</th>\n",
              "      <td>yes</td>\n",
              "      <td>0</td>\n",
              "      <td>37.66667</td>\n",
              "      <td>4.5200</td>\n",
              "      <td>0.033270</td>\n",
              "      <td>124.983300</td>\n",
              "      <td>yes</td>\n",
              "      <td>no</td>\n",
              "      <td>3</td>\n",
              "      <td>54</td>\n",
              "      <td>1</td>\n",
              "      <td>12</td>\n",
              "    </tr>\n",
              "    <tr>\n",
              "      <th>1</th>\n",
              "      <td>yes</td>\n",
              "      <td>0</td>\n",
              "      <td>33.25000</td>\n",
              "      <td>2.4200</td>\n",
              "      <td>0.005217</td>\n",
              "      <td>9.854167</td>\n",
              "      <td>no</td>\n",
              "      <td>no</td>\n",
              "      <td>3</td>\n",
              "      <td>34</td>\n",
              "      <td>1</td>\n",
              "      <td>13</td>\n",
              "    </tr>\n",
              "    <tr>\n",
              "      <th>2</th>\n",
              "      <td>yes</td>\n",
              "      <td>0</td>\n",
              "      <td>33.66667</td>\n",
              "      <td>4.5000</td>\n",
              "      <td>0.004156</td>\n",
              "      <td>15.000000</td>\n",
              "      <td>yes</td>\n",
              "      <td>no</td>\n",
              "      <td>4</td>\n",
              "      <td>58</td>\n",
              "      <td>1</td>\n",
              "      <td>5</td>\n",
              "    </tr>\n",
              "    <tr>\n",
              "      <th>3</th>\n",
              "      <td>yes</td>\n",
              "      <td>0</td>\n",
              "      <td>30.50000</td>\n",
              "      <td>2.5400</td>\n",
              "      <td>0.065214</td>\n",
              "      <td>137.869200</td>\n",
              "      <td>no</td>\n",
              "      <td>no</td>\n",
              "      <td>0</td>\n",
              "      <td>25</td>\n",
              "      <td>1</td>\n",
              "      <td>7</td>\n",
              "    </tr>\n",
              "    <tr>\n",
              "      <th>4</th>\n",
              "      <td>yes</td>\n",
              "      <td>0</td>\n",
              "      <td>32.16667</td>\n",
              "      <td>9.7867</td>\n",
              "      <td>0.067051</td>\n",
              "      <td>546.503300</td>\n",
              "      <td>yes</td>\n",
              "      <td>no</td>\n",
              "      <td>2</td>\n",
              "      <td>64</td>\n",
              "      <td>1</td>\n",
              "      <td>5</td>\n",
              "    </tr>\n",
              "  </tbody>\n",
              "</table>\n",
              "</div>"
            ],
            "text/plain": [
              "  card  reports       age  income  ...  dependents  months majorcards active\n",
              "0  yes        0  37.66667  4.5200  ...           3      54          1     12\n",
              "1  yes        0  33.25000  2.4200  ...           3      34          1     13\n",
              "2  yes        0  33.66667  4.5000  ...           4      58          1      5\n",
              "3  yes        0  30.50000  2.5400  ...           0      25          1      7\n",
              "4  yes        0  32.16667  9.7867  ...           2      64          1      5\n",
              "\n",
              "[5 rows x 12 columns]"
            ]
          },
          "metadata": {},
          "execution_count": 21
        }
      ]
    },
    {
      "cell_type": "markdown",
      "metadata": {
        "id": "pK93nbplk7VC"
      },
      "source": [
        "Из этого всего возьмём переменные:\n",
        "\n",
        "- `active` - количество активных счетов\n",
        "- `age` - возраст\n",
        "- `income` - годовой доход в десятках тысяч\n",
        "- `expenditure` - месячный расход средств кредитной карты\n",
        "- `owner` - владеет ли пользователь собственным домом или нет\n",
        "- `selfemp` - самозанятый или нет"
      ]
    },
    {
      "cell_type": "markdown",
      "metadata": {
        "id": "bgMkMM65k7VD"
      },
      "source": [
        "Посмотрим распределение количества активных счетов:"
      ]
    },
    {
      "cell_type": "code",
      "metadata": {
        "colab": {
          "base_uri": "https://localhost:8080/",
          "height": 312
        },
        "id": "1SS9qliuk7VD",
        "outputId": "f383b3fb-8dc4-4af8-d604-79fa9b23fea4"
      },
      "source": [
        "sns.countplot(x = 'active', data = credit)\n",
        "plt.xlabel('Количество')\n",
        "plt.ylabel('Частота')\n",
        "plt.title('Количество активных счетов')"
      ],
      "execution_count": 22,
      "outputs": [
        {
          "output_type": "execute_result",
          "data": {
            "text/plain": [
              "Text(0.5, 1.0, 'Количество активных счетов')"
            ]
          },
          "metadata": {},
          "execution_count": 22
        },
        {
          "output_type": "display_data",
          "data": {
            "image/png": "[encoded data removed]",
            "text/plain": [
              "<Figure size 432x288 with 1 Axes>"
            ]
          },
          "metadata": {
            "needs_background": "light"
          }
        }
      ]
    },
    {
      "cell_type": "markdown",
      "metadata": {
        "id": "XWM5fq7Lk7VD"
      },
      "source": [
        "Делаем модель Пуассона:"
      ]
    },
    {
      "cell_type": "code",
      "metadata": {
        "colab": {
          "base_uri": "https://localhost:8080/",
          "height": 380
        },
        "id": "36Dy2KNrk7VD",
        "outputId": "bc1bf487-3a14-4e76-a622-34b46178a9a2"
      },
      "source": [
        "pois = sf.glm('active ~ age + income + expenditure + C(owner) + C(selfemp)', \\\n",
        "              family = sm.families.Poisson(), data = credit).fit()\n",
        "pois.summary()"
      ],
      "execution_count": 23,
      "outputs": [
        {
          "output_type": "execute_result",
          "data": {
            "text/html": [
              "<table class=\"simpletable\">\n",
              "<caption>Generalized Linear Model Regression Results</caption>\n",
              "<tr>\n",
              "  <th>Dep. Variable:</th>        <td>active</td>      <th>  No. Observations:  </th>  <td>  1319</td> \n",
              "</tr>\n",
              "<tr>\n",
              "  <th>Model:</th>                  <td>GLM</td>       <th>  Df Residuals:      </th>  <td>  1313</td> \n",
              "</tr>\n",
              "<tr>\n",
              "  <th>Model Family:</th>         <td>Poisson</td>     <th>  Df Model:          </th>  <td>     5</td> \n",
              "</tr>\n",
              "<tr>\n",
              "  <th>Link Function:</th>          <td>log</td>       <th>  Scale:             </th> <td>  1.0000</td>\n",
              "</tr>\n",
              "<tr>\n",
              "  <th>Method:</th>                <td>IRLS</td>       <th>  Log-Likelihood:    </th> <td> -5614.4</td>\n",
              "</tr>\n",
              "<tr>\n",
              "  <th>Date:</th>            <td>Thu, 07 Oct 2021</td> <th>  Deviance:          </th> <td>  7142.4</td>\n",
              "</tr>\n",
              "<tr>\n",
              "  <th>Time:</th>                <td>12:07:28</td>     <th>  Pearson chi2:      </th> <td>6.89e+03</td>\n",
              "</tr>\n",
              "<tr>\n",
              "  <th>No. Iterations:</th>          <td>5</td>        <th>                     </th>     <td> </td>   \n",
              "</tr>\n",
              "<tr>\n",
              "  <th>Covariance Type:</th>     <td>nonrobust</td>    <th>                     </th>     <td> </td>   \n",
              "</tr>\n",
              "</table>\n",
              "<table class=\"simpletable\">\n",
              "<tr>\n",
              "          <td></td>             <th>coef</th>     <th>std err</th>      <th>z</th>      <th>P>|z|</th>  <th>[0.025</th>    <th>0.975]</th>  \n",
              "</tr>\n",
              "<tr>\n",
              "  <th>Intercept</th>         <td>    1.4000</td> <td>    0.037</td> <td>   37.440</td> <td> 0.000</td> <td>    1.327</td> <td>    1.473</td>\n",
              "</tr>\n",
              "<tr>\n",
              "  <th>C(owner)[T.yes]</th>   <td>    0.4033</td> <td>    0.023</td> <td>   17.409</td> <td> 0.000</td> <td>    0.358</td> <td>    0.449</td>\n",
              "</tr>\n",
              "<tr>\n",
              "  <th>C(selfemp)[T.yes]</th> <td>    0.0141</td> <td>    0.040</td> <td>    0.355</td> <td> 0.723</td> <td>   -0.064</td> <td>    0.092</td>\n",
              "</tr>\n",
              "<tr>\n",
              "  <th>age</th>               <td>    0.0062</td> <td>    0.001</td> <td>    5.648</td> <td> 0.000</td> <td>    0.004</td> <td>    0.008</td>\n",
              "</tr>\n",
              "<tr>\n",
              "  <th>income</th>            <td>    0.0361</td> <td>    0.006</td> <td>    5.752</td> <td> 0.000</td> <td>    0.024</td> <td>    0.048</td>\n",
              "</tr>\n",
              "<tr>\n",
              "  <th>expenditure</th>       <td> 2.925e-05</td> <td> 3.75e-05</td> <td>    0.779</td> <td> 0.436</td> <td>-4.43e-05</td> <td>    0.000</td>\n",
              "</tr>\n",
              "</table>"
            ],
            "text/plain": [
              "<class 'statsmodels.iolib.summary.Summary'>\n",
              "\"\"\"\n",
              "                 Generalized Linear Model Regression Results                  \n",
              "==============================================================================\n",
              "Dep. Variable:                 active   No. Observations:                 1319\n",
              "Model:                            GLM   Df Residuals:                     1313\n",
              "Model Family:                 Poisson   Df Model:                            5\n",
              "Link Function:                    log   Scale:                          1.0000\n",
              "Method:                          IRLS   Log-Likelihood:                -5614.4\n",
              "Date:                Thu, 07 Oct 2021   Deviance:                       7142.4\n",
              "Time:                        12:07:28   Pearson chi2:                 6.89e+03\n",
              "No. Iterations:                     5                                         \n",
              "Covariance Type:            nonrobust                                         \n",
              "=====================================================================================\n",
              "                        coef    std err          z      P>|z|      [0.025      0.975]\n",
              "-------------------------------------------------------------------------------------\n",
              "Intercept             1.4000      0.037     37.440      0.000       1.327       1.473\n",
              "C(owner)[T.yes]       0.4033      0.023     17.409      0.000       0.358       0.449\n",
              "C(selfemp)[T.yes]     0.0141      0.040      0.355      0.723      -0.064       0.092\n",
              "age                   0.0062      0.001      5.648      0.000       0.004       0.008\n",
              "income                0.0361      0.006      5.752      0.000       0.024       0.048\n",
              "expenditure        2.925e-05   3.75e-05      0.779      0.436   -4.43e-05       0.000\n",
              "=====================================================================================\n",
              "\"\"\""
            ]
          },
          "metadata": {},
          "execution_count": 23
        }
      ]
    },
    {
      "cell_type": "markdown",
      "metadata": {
        "id": "TYC6epyhk7VE"
      },
      "source": [
        "Количество крединтых кард растёт в зависимости от:\n",
        "\n",
        "* дохода \n",
        "* возраста\n",
        "* владения собственным домом"
      ]
    },
    {
      "cell_type": "markdown",
      "metadata": {
        "id": "iSx0dyauk7VE"
      },
      "source": [
        "#### Проблемы сверхдисперсии"
      ]
    },
    {
      "cell_type": "markdown",
      "metadata": {
        "id": "wVygDwYDk7VE"
      },
      "source": [
        "Как подсчитать сверхдисперсию:"
      ]
    },
    {
      "cell_type": "code",
      "metadata": {
        "id": "_0x0DyBFk7VE",
        "outputId": "6c5c5475-d7dc-40d6-a39a-d0c813bde5e8"
      },
      "source": [
        "pois.pearson_chi2/pois.df_resid"
      ],
      "execution_count": null,
      "outputs": [
        {
          "data": {
            "text/plain": [
              "5.249939996924426"
            ]
          },
          "execution_count": 20,
          "metadata": {},
          "output_type": "execute_result"
        }
      ]
    },
    {
      "cell_type": "markdown",
      "metadata": {
        "id": "HnCClG_9k7VE"
      },
      "source": [
        "Для модели Пуассона это значение должно быть близко к 1. Нужно другое распределение, которое может компенсировать проблему:"
      ]
    },
    {
      "cell_type": "markdown",
      "metadata": {
        "id": "j-BFI6w0k7VF"
      },
      "source": [
        "* Имя распределения - отрицательное биномиальное\n",
        "* Разброс значений - (0;$\\infty$)\n",
        "* Параметры - $\\mu$ (среднее), $\\theta$/$\\alpha$ (форма/дисперсия)\n",
        "* Типичная функция связи - логарифм"
      ]
    },
    {
      "cell_type": "markdown",
      "metadata": {
        "id": "go9ys7oUk7VF"
      },
      "source": [
        "Когда строим модель, обращаем внимание на аргумент `alpha` - это параметр дисперсии. От него зависит сходимость результатов, поэтому в случае ошибок рекомендуется ставить его в диапазоне от 0.1 до 2."
      ]
    },
    {
      "cell_type": "code",
      "metadata": {
        "id": "8STwGWPUk7VF",
        "outputId": "85cdb434-2dac-4a1a-98ee-b72b247dff6e"
      },
      "source": [
        "neg = sf.glm('active ~ age + income + expenditure + C(owner) + C(selfemp)', data = credit, \\\n",
        "             family = sm.families.NegativeBinomial(alpha=0.15)).fit()\n",
        "neg.summary()"
      ],
      "execution_count": null,
      "outputs": [
        {
          "data": {
            "text/html": [
              "<table class=\"simpletable\">\n",
              "<caption>Generalized Linear Model Regression Results</caption>\n",
              "<tr>\n",
              "  <th>Dep. Variable:</th>        <td>active</td>      <th>  No. Observations:  </th>  <td>  1319</td> \n",
              "</tr>\n",
              "<tr>\n",
              "  <th>Model:</th>                  <td>GLM</td>       <th>  Df Residuals:      </th>  <td>  1313</td> \n",
              "</tr>\n",
              "<tr>\n",
              "  <th>Model Family:</th>    <td>NegativeBinomial</td> <th>  Df Model:          </th>  <td>     5</td> \n",
              "</tr>\n",
              "<tr>\n",
              "  <th>Link Function:</th>          <td>log</td>       <th>  Scale:             </th> <td>  1.0000</td>\n",
              "</tr>\n",
              "<tr>\n",
              "  <th>Method:</th>                <td>IRLS</td>       <th>  Log-Likelihood:    </th> <td> -4429.3</td>\n",
              "</tr>\n",
              "<tr>\n",
              "  <th>Date:</th>            <td>Thu, 27 Aug 2020</td> <th>  Deviance:          </th> <td>  3940.9</td>\n",
              "</tr>\n",
              "<tr>\n",
              "  <th>Time:</th>                <td>14:32:57</td>     <th>  Pearson chi2:      </th> <td>3.44e+03</td>\n",
              "</tr>\n",
              "<tr>\n",
              "  <th>No. Iterations:</th>          <td>5</td>        <th>                     </th>     <td> </td>   \n",
              "</tr>\n",
              "<tr>\n",
              "  <th>Covariance Type:</th>     <td>nonrobust</td>    <th>                     </th>     <td> </td>   \n",
              "</tr>\n",
              "</table>\n",
              "<table class=\"simpletable\">\n",
              "<tr>\n",
              "          <td></td>             <th>coef</th>     <th>std err</th>      <th>z</th>      <th>P>|z|</th>  <th>[0.025</th>    <th>0.975]</th>  \n",
              "</tr>\n",
              "<tr>\n",
              "  <th>Intercept</th>         <td>    1.3690</td> <td>    0.054</td> <td>   25.206</td> <td> 0.000</td> <td>    1.263</td> <td>    1.475</td>\n",
              "</tr>\n",
              "<tr>\n",
              "  <th>C(owner)[T.yes]</th>   <td>    0.3984</td> <td>    0.033</td> <td>   11.996</td> <td> 0.000</td> <td>    0.333</td> <td>    0.463</td>\n",
              "</tr>\n",
              "<tr>\n",
              "  <th>C(selfemp)[T.yes]</th> <td>    0.0055</td> <td>    0.059</td> <td>    0.094</td> <td> 0.925</td> <td>   -0.110</td> <td>    0.121</td>\n",
              "</tr>\n",
              "<tr>\n",
              "  <th>age</th>               <td>    0.0069</td> <td>    0.002</td> <td>    4.263</td> <td> 0.000</td> <td>    0.004</td> <td>    0.010</td>\n",
              "</tr>\n",
              "<tr>\n",
              "  <th>income</th>            <td>    0.0393</td> <td>    0.010</td> <td>    4.099</td> <td> 0.000</td> <td>    0.021</td> <td>    0.058</td>\n",
              "</tr>\n",
              "<tr>\n",
              "  <th>expenditure</th>       <td> 2.445e-05</td> <td> 5.63e-05</td> <td>    0.434</td> <td> 0.664</td> <td>-8.59e-05</td> <td>    0.000</td>\n",
              "</tr>\n",
              "</table>"
            ],
            "text/plain": [
              "<class 'statsmodels.iolib.summary.Summary'>\n",
              "\"\"\"\n",
              "                 Generalized Linear Model Regression Results                  \n",
              "==============================================================================\n",
              "Dep. Variable:                 active   No. Observations:                 1319\n",
              "Model:                            GLM   Df Residuals:                     1313\n",
              "Model Family:        NegativeBinomial   Df Model:                            5\n",
              "Link Function:                    log   Scale:                          1.0000\n",
              "Method:                          IRLS   Log-Likelihood:                -4429.3\n",
              "Date:                Thu, 27 Aug 2020   Deviance:                       3940.9\n",
              "Time:                        14:32:57   Pearson chi2:                 3.44e+03\n",
              "No. Iterations:                     5                                         \n",
              "Covariance Type:            nonrobust                                         \n",
              "=====================================================================================\n",
              "                        coef    std err          z      P>|z|      [0.025      0.975]\n",
              "-------------------------------------------------------------------------------------\n",
              "Intercept             1.3690      0.054     25.206      0.000       1.263       1.475\n",
              "C(owner)[T.yes]       0.3984      0.033     11.996      0.000       0.333       0.463\n",
              "C(selfemp)[T.yes]     0.0055      0.059      0.094      0.925      -0.110       0.121\n",
              "age                   0.0069      0.002      4.263      0.000       0.004       0.010\n",
              "income                0.0393      0.010      4.099      0.000       0.021       0.058\n",
              "expenditure        2.445e-05   5.63e-05      0.434      0.664   -8.59e-05       0.000\n",
              "=====================================================================================\n",
              "\"\"\""
            ]
          },
          "execution_count": 21,
          "metadata": {},
          "output_type": "execute_result"
        }
      ]
    },
    {
      "cell_type": "markdown",
      "metadata": {
        "id": "T2kn8iF2k7VF"
      },
      "source": [
        "Интерпретация результатов очень похожа. Что насчёт сверхдисперсии?"
      ]
    },
    {
      "cell_type": "code",
      "metadata": {
        "id": "5BS9l3PIk7VF",
        "outputId": "229ece4f-a5c6-4e13-b960-2b61a376f0ec"
      },
      "source": [
        "neg.pearson_chi2/neg.df_resid"
      ],
      "execution_count": null,
      "outputs": [
        {
          "data": {
            "text/plain": [
              "2.619678072486945"
            ]
          },
          "execution_count": 22,
          "metadata": {},
          "output_type": "execute_result"
        }
      ]
    },
    {
      "cell_type": "markdown",
      "metadata": {
        "id": "XvLtUlJ6k7VG"
      },
      "source": [
        "Сравним модели с помощью информационного критерия Акаике (AIC):\n",
        "\n",
        "- Его абсолютное значение ничего не значит, полезен только для сравнения моделей\n",
        "- Чем он ниже, тем лучше модель"
      ]
    },
    {
      "cell_type": "markdown",
      "metadata": {
        "id": "EbJmKXnZk7VG"
      },
      "source": [
        "Мы можем сравнить два разных типа моделей через AIC (при условии, что ЗП и НП одинаковые):"
      ]
    },
    {
      "cell_type": "code",
      "metadata": {
        "id": "RMie4gq4k7VG",
        "outputId": "a266eda2-34b4-4587-ad00-3a70d0ef6f91"
      },
      "source": [
        "print(pois.aic)\n",
        "print(neg.aic)"
      ],
      "execution_count": null,
      "outputs": [
        {
          "name": "stdout",
          "output_type": "stream",
          "text": [
            "11240.817775454601\n",
            "8870.632884339047\n"
          ]
        }
      ]
    },
    {
      "cell_type": "markdown",
      "metadata": {
        "id": "q1KDouuvk7VG"
      },
      "source": [
        "Предиктивная способность негативно-биномиальной лучше."
      ]
    },
    {
      "cell_type": "markdown",
      "metadata": {
        "id": "F3DhgDYOk7VG"
      },
      "source": [
        "### Регрессия с избытком нулей"
      ]
    },
    {
      "cell_type": "markdown",
      "metadata": {
        "id": "T1V7AJnOk7VH"
      },
      "source": [
        "* Имя распределения - Пуассона/отрицательное биномиальное с избытком нулей\n",
        "* Разброс значений - (0;$\\infty$)\n",
        "* Параметры - как у их соответствующих распределений + $\\pi$ (вероятность принадлежности нуля одному из двух процессов)\n",
        "* Типичная функция связи - логарифм"
      ]
    },
    {
      "cell_type": "markdown",
      "metadata": {
        "id": "R4z07Itzk7VH"
      },
      "source": [
        "Здесь API не позволяет пользовать формулой, поэтому подготовим данные:"
      ]
    },
    {
      "cell_type": "code",
      "metadata": {
        "id": "S-GI5Zpak7VH"
      },
      "source": [
        "credit.owner = np.where(credit.owner == 'yes', 1, 0)\n",
        "credit.selfemp = np.where(credit.selfemp == 'yes', 1, 0) #меняем данные на 0 и 1, чтобы не было ошибки\n",
        "\n",
        "Y = credit.active #ЗП\n",
        "X = credit.loc[:, ['owner', 'selfemp', 'age', 'income', 'expenditure']] #НП\n",
        "X = sm.add_constant(X) # добавляем константу, чтобы в модели был intercept"
      ],
      "execution_count": 24,
      "outputs": []
    },
    {
      "cell_type": "markdown",
      "metadata": {
        "id": "ueBEk9qdk7VH"
      },
      "source": [
        "Чем сложнее модели, тем они капризнее. Увеличиваем количество итераций и меняем алгоритм на более стабильный:"
      ]
    },
    {
      "cell_type": "code",
      "metadata": {
        "colab": {
          "base_uri": "https://localhost:8080/",
          "height": 518
        },
        "id": "Wfy0-GWsk7VH",
        "outputId": "0a5f9f79-9848-4be6-b50f-69b25c2a5bb4"
      },
      "source": [
        "zeroinf = sm.ZeroInflatedPoisson(Y, X).fit(maxiter = 100, method = 'ncg')\n",
        "zeroinf.summary()"
      ],
      "execution_count": 25,
      "outputs": [
        {
          "output_type": "stream",
          "name": "stderr",
          "text": [
            "/usr/local/lib/python3.7/dist-packages/statsmodels/base/model.py:512: ConvergenceWarning: Maximum Likelihood optimization failed to converge. Check mle_retvals\n",
            "  \"Check mle_retvals\", ConvergenceWarning)\n"
          ]
        },
        {
          "output_type": "stream",
          "name": "stdout",
          "text": [
            "Optimization terminated successfully.\n",
            "         Current function value: 3.899929\n",
            "         Iterations: 4\n",
            "         Function evaluations: 6\n",
            "         Gradient evaluations: 9\n",
            "         Hessian evaluations: 4\n"
          ]
        },
        {
          "output_type": "execute_result",
          "data": {
            "text/html": [
              "<table class=\"simpletable\">\n",
              "<caption>ZeroInflatedPoisson Regression Results</caption>\n",
              "<tr>\n",
              "  <th>Dep. Variable:</th>         <td>active</td>        <th>  No. Observations:  </th>  <td>  1319</td> \n",
              "</tr>\n",
              "<tr>\n",
              "  <th>Model:</th>           <td>ZeroInflatedPoisson</td> <th>  Df Residuals:      </th>  <td>  1313</td> \n",
              "</tr>\n",
              "<tr>\n",
              "  <th>Method:</th>                  <td>MLE</td>         <th>  Df Model:          </th>  <td>     5</td> \n",
              "</tr>\n",
              "<tr>\n",
              "  <th>Date:</th>             <td>Thu, 07 Oct 2021</td>   <th>  Pseudo R-squ.:     </th> <td>-0.05893</td>\n",
              "</tr>\n",
              "<tr>\n",
              "  <th>Time:</th>                 <td>12:25:37</td>       <th>  Log-Likelihood:    </th> <td> -5144.0</td>\n",
              "</tr>\n",
              "<tr>\n",
              "  <th>converged:</th>              <td>True</td>         <th>  LL-Null:           </th> <td> -4857.8</td>\n",
              "</tr>\n",
              "<tr>\n",
              "  <th>Covariance Type:</th>      <td>nonrobust</td>      <th>  LLR p-value:       </th>  <td> 1.000</td> \n",
              "</tr>\n",
              "</table>\n",
              "<table class=\"simpletable\">\n",
              "<tr>\n",
              "        <td></td>           <th>coef</th>     <th>std err</th>      <th>z</th>      <th>P>|z|</th>  <th>[0.025</th>    <th>0.975]</th>  \n",
              "</tr>\n",
              "<tr>\n",
              "  <th>inflate_const</th> <td>    0.0999</td> <td>    0.055</td> <td>    1.812</td> <td> 0.070</td> <td>   -0.008</td> <td>    0.208</td>\n",
              "</tr>\n",
              "<tr>\n",
              "  <th>const</th>         <td>    1.7967</td> <td>    0.037</td> <td>   48.172</td> <td> 0.000</td> <td>    1.724</td> <td>    1.870</td>\n",
              "</tr>\n",
              "<tr>\n",
              "  <th>owner</th>         <td>    0.0017</td> <td>    0.023</td> <td>    0.073</td> <td> 0.942</td> <td>   -0.043</td> <td>    0.046</td>\n",
              "</tr>\n",
              "<tr>\n",
              "  <th>selfemp</th>       <td>    0.0008</td> <td>    0.039</td> <td>    0.022</td> <td> 0.983</td> <td>   -0.075</td> <td>    0.077</td>\n",
              "</tr>\n",
              "<tr>\n",
              "  <th>age</th>           <td>    0.0093</td> <td>    0.001</td> <td>    8.656</td> <td> 0.000</td> <td>    0.007</td> <td>    0.011</td>\n",
              "</tr>\n",
              "<tr>\n",
              "  <th>income</th>        <td>    0.0019</td> <td>    0.007</td> <td>    0.280</td> <td> 0.779</td> <td>   -0.011</td> <td>    0.015</td>\n",
              "</tr>\n",
              "<tr>\n",
              "  <th>expenditure</th>   <td>    0.0001</td> <td> 3.81e-05</td> <td>    2.691</td> <td> 0.007</td> <td> 2.79e-05</td> <td>    0.000</td>\n",
              "</tr>\n",
              "</table>"
            ],
            "text/plain": [
              "<class 'statsmodels.iolib.summary.Summary'>\n",
              "\"\"\"\n",
              "                     ZeroInflatedPoisson Regression Results                    \n",
              "===============================================================================\n",
              "Dep. Variable:                  active   No. Observations:                 1319\n",
              "Model:             ZeroInflatedPoisson   Df Residuals:                     1313\n",
              "Method:                            MLE   Df Model:                            5\n",
              "Date:                 Thu, 07 Oct 2021   Pseudo R-squ.:                -0.05893\n",
              "Time:                         12:25:37   Log-Likelihood:                -5144.0\n",
              "converged:                        True   LL-Null:                       -4857.8\n",
              "Covariance Type:             nonrobust   LLR p-value:                     1.000\n",
              "=================================================================================\n",
              "                    coef    std err          z      P>|z|      [0.025      0.975]\n",
              "---------------------------------------------------------------------------------\n",
              "inflate_const     0.0999      0.055      1.812      0.070      -0.008       0.208\n",
              "const             1.7967      0.037     48.172      0.000       1.724       1.870\n",
              "owner             0.0017      0.023      0.073      0.942      -0.043       0.046\n",
              "selfemp           0.0008      0.039      0.022      0.983      -0.075       0.077\n",
              "age               0.0093      0.001      8.656      0.000       0.007       0.011\n",
              "income            0.0019      0.007      0.280      0.779      -0.011       0.015\n",
              "expenditure       0.0001   3.81e-05      2.691      0.007    2.79e-05       0.000\n",
              "=================================================================================\n",
              "\"\"\""
            ]
          },
          "metadata": {},
          "execution_count": 25
        }
      ]
    },
    {
      "cell_type": "markdown",
      "metadata": {
        "id": "BzSZWV70k7VI"
      },
      "source": [
        "Резко изменилась интерпретация: значим только возраст и стали значимыми расходы. Ещё появился коэффициент `inflate` - это коэффициент, отвечающий за компенсацию лишних нулей.\n",
        "\n",
        "Сравним модели:"
      ]
    },
    {
      "cell_type": "code",
      "metadata": {
        "id": "vnpNFkpfk7VI",
        "outputId": "ae5e79f1-1f51-4534-e079-5d897c2df3e2"
      },
      "source": [
        "print(pois.aic)\n",
        "print(neg.aic)\n",
        "print(zeroinf.aic)"
      ],
      "execution_count": null,
      "outputs": [
        {
          "name": "stdout",
          "output_type": "stream",
          "text": [
            "11240.817775454601\n",
            "8870.632884339047\n",
            "10300.01303290444\n"
          ]
        }
      ]
    },
    {
      "cell_type": "markdown",
      "metadata": {
        "id": "afe5r8HDk7VI"
      },
      "source": [
        "И то же самое с отрицательным биномиальным:"
      ]
    },
    {
      "cell_type": "code",
      "metadata": {
        "id": "TjIY8sokk7VI",
        "outputId": "d3830260-630c-46d8-a2f7-2b344bd371a3"
      },
      "source": [
        "zeroinf_2 = sm.ZeroInflatedNegativeBinomialP(Y, X).fit(maxiter = 100, method = 'ncg')\n",
        "zeroinf_2.summary()"
      ],
      "execution_count": null,
      "outputs": [
        {
          "name": "stdout",
          "output_type": "stream",
          "text": [
            "Optimization terminated successfully.\n",
            "         Current function value: 3.055913\n",
            "         Iterations: 5\n",
            "         Function evaluations: 9\n",
            "         Gradient evaluations: 9\n",
            "         Hessian evaluations: 5\n"
          ]
        },
        {
          "data": {
            "text/html": [
              "<table class=\"simpletable\">\n",
              "<caption>ZeroInflatedNegativeBinomialP Regression Results</caption>\n",
              "<tr>\n",
              "  <th>Dep. Variable:</th>              <td>active</td>             <th>  No. Observations:  </th>  <td>  1319</td> \n",
              "</tr>\n",
              "<tr>\n",
              "  <th>Model:</th>           <td>ZeroInflatedNegativeBinomialP</td> <th>  Df Residuals:      </th>  <td>  1313</td> \n",
              "</tr>\n",
              "<tr>\n",
              "  <th>Method:</th>                       <td>MLE</td>              <th>  Df Model:          </th>  <td>     5</td> \n",
              "</tr>\n",
              "<tr>\n",
              "  <th>Date:</th>                  <td>Thu, 27 Aug 2020</td>        <th>  Pseudo R-squ.:     </th> <td>-0.03018</td>\n",
              "</tr>\n",
              "<tr>\n",
              "  <th>Time:</th>                      <td>14:33:44</td>            <th>  Log-Likelihood:    </th> <td> -4030.7</td>\n",
              "</tr>\n",
              "<tr>\n",
              "  <th>converged:</th>                   <td>True</td>              <th>  LL-Null:           </th> <td> -3912.7</td>\n",
              "</tr>\n",
              "<tr>\n",
              "  <th>Covariance Type:</th>           <td>nonrobust</td>           <th>  LLR p-value:       </th>  <td> 1.000</td> \n",
              "</tr>\n",
              "</table>\n",
              "<table class=\"simpletable\">\n",
              "<tr>\n",
              "        <td></td>           <th>coef</th>     <th>std err</th>      <th>z</th>      <th>P>|z|</th>  <th>[0.025</th>    <th>0.975]</th>  \n",
              "</tr>\n",
              "<tr>\n",
              "  <th>inflate_const</th> <td>   -0.5152</td> <td>    0.058</td> <td>   -8.820</td> <td> 0.000</td> <td>   -0.630</td> <td>   -0.401</td>\n",
              "</tr>\n",
              "<tr>\n",
              "  <th>const</th>         <td>    1.4543</td> <td>    0.087</td> <td>   16.765</td> <td> 0.000</td> <td>    1.284</td> <td>    1.624</td>\n",
              "</tr>\n",
              "<tr>\n",
              "  <th>owner</th>         <td>    0.3590</td> <td>    0.050</td> <td>    7.112</td> <td> 0.000</td> <td>    0.260</td> <td>    0.458</td>\n",
              "</tr>\n",
              "<tr>\n",
              "  <th>selfemp</th>       <td>    0.0029</td> <td>    0.090</td> <td>    0.032</td> <td> 0.974</td> <td>   -0.173</td> <td>    0.178</td>\n",
              "</tr>\n",
              "<tr>\n",
              "  <th>age</th>           <td>    0.0097</td> <td>    0.003</td> <td>    3.757</td> <td> 0.000</td> <td>    0.005</td> <td>    0.015</td>\n",
              "</tr>\n",
              "<tr>\n",
              "  <th>income</th>        <td>    0.0352</td> <td>    0.016</td> <td>    2.234</td> <td> 0.026</td> <td>    0.004</td> <td>    0.066</td>\n",
              "</tr>\n",
              "<tr>\n",
              "  <th>expenditure</th>   <td> 5.109e-05</td> <td> 9.08e-05</td> <td>    0.563</td> <td> 0.573</td> <td>   -0.000</td> <td>    0.000</td>\n",
              "</tr>\n",
              "<tr>\n",
              "  <th>alpha</th>         <td>    0.4517</td> <td>    0.032</td> <td>   14.330</td> <td> 0.000</td> <td>    0.390</td> <td>    0.514</td>\n",
              "</tr>\n",
              "</table>"
            ],
            "text/plain": [
              "<class 'statsmodels.iolib.summary.Summary'>\n",
              "\"\"\"\n",
              "                     ZeroInflatedNegativeBinomialP Regression Results                    \n",
              "=========================================================================================\n",
              "Dep. Variable:                            active   No. Observations:                 1319\n",
              "Model:             ZeroInflatedNegativeBinomialP   Df Residuals:                     1313\n",
              "Method:                                      MLE   Df Model:                            5\n",
              "Date:                           Thu, 27 Aug 2020   Pseudo R-squ.:                -0.03018\n",
              "Time:                                   14:33:44   Log-Likelihood:                -4030.7\n",
              "converged:                                  True   LL-Null:                       -3912.7\n",
              "Covariance Type:                       nonrobust   LLR p-value:                     1.000\n",
              "=================================================================================\n",
              "                    coef    std err          z      P>|z|      [0.025      0.975]\n",
              "---------------------------------------------------------------------------------\n",
              "inflate_const    -0.5152      0.058     -8.820      0.000      -0.630      -0.401\n",
              "const             1.4543      0.087     16.765      0.000       1.284       1.624\n",
              "owner             0.3590      0.050      7.112      0.000       0.260       0.458\n",
              "selfemp           0.0029      0.090      0.032      0.974      -0.173       0.178\n",
              "age               0.0097      0.003      3.757      0.000       0.005       0.015\n",
              "income            0.0352      0.016      2.234      0.026       0.004       0.066\n",
              "expenditure    5.109e-05   9.08e-05      0.563      0.573      -0.000       0.000\n",
              "alpha             0.4517      0.032     14.330      0.000       0.390       0.514\n",
              "=================================================================================\n",
              "\"\"\""
            ]
          },
          "execution_count": 27,
          "metadata": {},
          "output_type": "execute_result"
        }
      ]
    },
    {
      "cell_type": "markdown",
      "metadata": {
        "id": "kw1T5Aohk7VJ"
      },
      "source": [
        "А здесь интерпретация похожа на изначальную. Ещё есть параметр `alpha`, который оценивает избыток дисперсии.\n",
        "\n",
        "Сравним:"
      ]
    },
    {
      "cell_type": "code",
      "metadata": {
        "id": "ywz7DK3Wk7VJ",
        "outputId": "a50c31cb-c49e-434e-9d97-bd853b449d08"
      },
      "source": [
        "print(pois.aic)\n",
        "print(neg.aic)\n",
        "print(zeroinf.aic)\n",
        "print(zeroinf_2.aic)"
      ],
      "execution_count": null,
      "outputs": [
        {
          "name": "stdout",
          "output_type": "stream",
          "text": [
            "11240.817775454601\n",
            "8870.632884339047\n",
            "10300.01303290444\n",
            "8073.49979475755\n"
          ]
        }
      ]
    },
    {
      "cell_type": "markdown",
      "metadata": {
        "id": "b67kUiWCk7VJ"
      },
      "source": [
        "Zero-inflated лучше своих обычных вариантов в данной ситуации."
      ]
    },
    {
      "cell_type": "markdown",
      "metadata": {
        "id": "RM83X63wk7VJ"
      },
      "source": [
        "### Анализ выживаемости"
      ]
    },
    {
      "cell_type": "markdown",
      "metadata": {
        "id": "kqRAWLcTy5vc"
      },
      "source": [
        "Моделей выживаемости существует много. Здесь будет использоваться модель ускорения времени неудачи. Согласно ей событие рано или поздно произойдет. Будем предсказывать это время "
      ]
    },
    {
      "cell_type": "markdown",
      "metadata": {
        "id": "5iT2ota3k7VJ"
      },
      "source": [
        "* Имя распределения - Вейбулла (как пример)\n",
        "* Разброс значений - (0;$\\infty$)\n",
        "* Параметры - $\\alpha$ (дисперсия), $\\gamma$ (форма)\n",
        "* Типичная функция связи - логарифм"
      ]
    },
    {
      "cell_type": "markdown",
      "metadata": {
        "id": "g-FZWsXpk7VK"
      },
      "source": [
        "Для этого мы используем пакет [lifelines](https://lifelines.readthedocs.io/en/latest/), устанавливается через `pip`."
      ]
    },
    {
      "cell_type": "code",
      "metadata": {
        "id": "USlA5B-Lzgxe"
      },
      "source": [
        "pip install lifelines"
      ],
      "execution_count": null,
      "outputs": []
    },
    {
      "cell_type": "code",
      "metadata": {
        "id": "2wGMM6C3k7VK"
      },
      "source": [
        "import lifelines as lf"
      ],
      "execution_count": 27,
      "outputs": []
    },
    {
      "cell_type": "markdown",
      "metadata": {
        "id": "yYXMST3Vk7VK"
      },
      "source": [
        "Будем испытывать его на данных оттока клиентов компании telco:"
      ]
    },
    {
      "cell_type": "code",
      "metadata": {
        "id": "KzD6-2Rbk7VK"
      },
      "source": [
        "churn = pd.read_csv('https://raw.githubusercontent.com/IBM/telco-customer-churn-on-icp4d/master/data/Telco-Customer-Churn.csv')"
      ],
      "execution_count": 28,
      "outputs": []
    },
    {
      "cell_type": "code",
      "metadata": {
        "colab": {
          "base_uri": "https://localhost:8080/",
          "height": 313
        },
        "id": "9wJjMBh6k7VK",
        "outputId": "799098ff-164f-4533-b701-d381c071083f"
      },
      "source": [
        "churn.head()"
      ],
      "execution_count": 29,
      "outputs": [
        {
          "output_type": "execute_result",
          "data": {
            "text/html": [
              "<div>\n",
              "<style scoped>\n",
              "    .dataframe tbody tr th:only-of-type {\n",
              "        vertical-align: middle;\n",
              "    }\n",
              "\n",
              "    .dataframe tbody tr th {\n",
              "        vertical-align: top;\n",
              "    }\n",
              "\n",
              "    .dataframe thead th {\n",
              "        text-align: right;\n",
              "    }\n",
              "</style>\n",
              "<table border=\"1\" class=\"dataframe\">\n",
              "  <thead>\n",
              "    <tr style=\"text-align: right;\">\n",
              "      <th></th>\n",
              "      <th>customerID</th>\n",
              "      <th>gender</th>\n",
              "      <th>SeniorCitizen</th>\n",
              "      <th>Partner</th>\n",
              "      <th>Dependents</th>\n",
              "      <th>tenure</th>\n",
              "      <th>PhoneService</th>\n",
              "      <th>MultipleLines</th>\n",
              "      <th>InternetService</th>\n",
              "      <th>OnlineSecurity</th>\n",
              "      <th>OnlineBackup</th>\n",
              "      <th>DeviceProtection</th>\n",
              "      <th>TechSupport</th>\n",
              "      <th>StreamingTV</th>\n",
              "      <th>StreamingMovies</th>\n",
              "      <th>Contract</th>\n",
              "      <th>PaperlessBilling</th>\n",
              "      <th>PaymentMethod</th>\n",
              "      <th>MonthlyCharges</th>\n",
              "      <th>TotalCharges</th>\n",
              "      <th>Churn</th>\n",
              "    </tr>\n",
              "  </thead>\n",
              "  <tbody>\n",
              "    <tr>\n",
              "      <th>0</th>\n",
              "      <td>7590-VHVEG</td>\n",
              "      <td>Female</td>\n",
              "      <td>0</td>\n",
              "      <td>Yes</td>\n",
              "      <td>No</td>\n",
              "      <td>1</td>\n",
              "      <td>No</td>\n",
              "      <td>No phone service</td>\n",
              "      <td>DSL</td>\n",
              "      <td>No</td>\n",
              "      <td>Yes</td>\n",
              "      <td>No</td>\n",
              "      <td>No</td>\n",
              "      <td>No</td>\n",
              "      <td>No</td>\n",
              "      <td>Month-to-month</td>\n",
              "      <td>Yes</td>\n",
              "      <td>Electronic check</td>\n",
              "      <td>29.85</td>\n",
              "      <td>29.85</td>\n",
              "      <td>No</td>\n",
              "    </tr>\n",
              "    <tr>\n",
              "      <th>1</th>\n",
              "      <td>5575-GNVDE</td>\n",
              "      <td>Male</td>\n",
              "      <td>0</td>\n",
              "      <td>No</td>\n",
              "      <td>No</td>\n",
              "      <td>34</td>\n",
              "      <td>Yes</td>\n",
              "      <td>No</td>\n",
              "      <td>DSL</td>\n",
              "      <td>Yes</td>\n",
              "      <td>No</td>\n",
              "      <td>Yes</td>\n",
              "      <td>No</td>\n",
              "      <td>No</td>\n",
              "      <td>No</td>\n",
              "      <td>One year</td>\n",
              "      <td>No</td>\n",
              "      <td>Mailed check</td>\n",
              "      <td>56.95</td>\n",
              "      <td>1889.5</td>\n",
              "      <td>No</td>\n",
              "    </tr>\n",
              "    <tr>\n",
              "      <th>2</th>\n",
              "      <td>3668-QPYBK</td>\n",
              "      <td>Male</td>\n",
              "      <td>0</td>\n",
              "      <td>No</td>\n",
              "      <td>No</td>\n",
              "      <td>2</td>\n",
              "      <td>Yes</td>\n",
              "      <td>No</td>\n",
              "      <td>DSL</td>\n",
              "      <td>Yes</td>\n",
              "      <td>Yes</td>\n",
              "      <td>No</td>\n",
              "      <td>No</td>\n",
              "      <td>No</td>\n",
              "      <td>No</td>\n",
              "      <td>Month-to-month</td>\n",
              "      <td>Yes</td>\n",
              "      <td>Mailed check</td>\n",
              "      <td>53.85</td>\n",
              "      <td>108.15</td>\n",
              "      <td>Yes</td>\n",
              "    </tr>\n",
              "    <tr>\n",
              "      <th>3</th>\n",
              "      <td>7795-CFOCW</td>\n",
              "      <td>Male</td>\n",
              "      <td>0</td>\n",
              "      <td>No</td>\n",
              "      <td>No</td>\n",
              "      <td>45</td>\n",
              "      <td>No</td>\n",
              "      <td>No phone service</td>\n",
              "      <td>DSL</td>\n",
              "      <td>Yes</td>\n",
              "      <td>No</td>\n",
              "      <td>Yes</td>\n",
              "      <td>Yes</td>\n",
              "      <td>No</td>\n",
              "      <td>No</td>\n",
              "      <td>One year</td>\n",
              "      <td>No</td>\n",
              "      <td>Bank transfer (automatic)</td>\n",
              "      <td>42.30</td>\n",
              "      <td>1840.75</td>\n",
              "      <td>No</td>\n",
              "    </tr>\n",
              "    <tr>\n",
              "      <th>4</th>\n",
              "      <td>9237-HQITU</td>\n",
              "      <td>Female</td>\n",
              "      <td>0</td>\n",
              "      <td>No</td>\n",
              "      <td>No</td>\n",
              "      <td>2</td>\n",
              "      <td>Yes</td>\n",
              "      <td>No</td>\n",
              "      <td>Fiber optic</td>\n",
              "      <td>No</td>\n",
              "      <td>No</td>\n",
              "      <td>No</td>\n",
              "      <td>No</td>\n",
              "      <td>No</td>\n",
              "      <td>No</td>\n",
              "      <td>Month-to-month</td>\n",
              "      <td>Yes</td>\n",
              "      <td>Electronic check</td>\n",
              "      <td>70.70</td>\n",
              "      <td>151.65</td>\n",
              "      <td>Yes</td>\n",
              "    </tr>\n",
              "  </tbody>\n",
              "</table>\n",
              "</div>"
            ],
            "text/plain": [
              "   customerID  gender  SeniorCitizen  ... MonthlyCharges TotalCharges  Churn\n",
              "0  7590-VHVEG  Female              0  ...          29.85        29.85     No\n",
              "1  5575-GNVDE    Male              0  ...          56.95       1889.5     No\n",
              "2  3668-QPYBK    Male              0  ...          53.85       108.15    Yes\n",
              "3  7795-CFOCW    Male              0  ...          42.30      1840.75     No\n",
              "4  9237-HQITU  Female              0  ...          70.70       151.65    Yes\n",
              "\n",
              "[5 rows x 21 columns]"
            ]
          },
          "metadata": {},
          "execution_count": 29
        }
      ]
    },
    {
      "cell_type": "markdown",
      "metadata": {
        "id": "Y6mLgiUFk7VK"
      },
      "source": [
        "Возьмём несколько из них:"
      ]
    },
    {
      "cell_type": "code",
      "metadata": {
        "id": "jasZA0E9k7VL"
      },
      "source": [
        "churn = churn.loc[:, ['Churn', 'tenure', 'SeniorCitizen', 'Dependents', 'MonthlyCharges', 'PaperlessBilling']]"
      ],
      "execution_count": 30,
      "outputs": []
    },
    {
      "cell_type": "code",
      "metadata": {
        "colab": {
          "base_uri": "https://localhost:8080/",
          "height": 206
        },
        "id": "awgABgSxk7VL",
        "outputId": "d9d01a26-a400-4a47-b683-1583920e7342"
      },
      "source": [
        "churn.head()"
      ],
      "execution_count": 31,
      "outputs": [
        {
          "output_type": "execute_result",
          "data": {
            "text/html": [
              "<div>\n",
              "<style scoped>\n",
              "    .dataframe tbody tr th:only-of-type {\n",
              "        vertical-align: middle;\n",
              "    }\n",
              "\n",
              "    .dataframe tbody tr th {\n",
              "        vertical-align: top;\n",
              "    }\n",
              "\n",
              "    .dataframe thead th {\n",
              "        text-align: right;\n",
              "    }\n",
              "</style>\n",
              "<table border=\"1\" class=\"dataframe\">\n",
              "  <thead>\n",
              "    <tr style=\"text-align: right;\">\n",
              "      <th></th>\n",
              "      <th>Churn</th>\n",
              "      <th>tenure</th>\n",
              "      <th>SeniorCitizen</th>\n",
              "      <th>Dependents</th>\n",
              "      <th>MonthlyCharges</th>\n",
              "      <th>PaperlessBilling</th>\n",
              "    </tr>\n",
              "  </thead>\n",
              "  <tbody>\n",
              "    <tr>\n",
              "      <th>0</th>\n",
              "      <td>No</td>\n",
              "      <td>1</td>\n",
              "      <td>0</td>\n",
              "      <td>No</td>\n",
              "      <td>29.85</td>\n",
              "      <td>Yes</td>\n",
              "    </tr>\n",
              "    <tr>\n",
              "      <th>1</th>\n",
              "      <td>No</td>\n",
              "      <td>34</td>\n",
              "      <td>0</td>\n",
              "      <td>No</td>\n",
              "      <td>56.95</td>\n",
              "      <td>No</td>\n",
              "    </tr>\n",
              "    <tr>\n",
              "      <th>2</th>\n",
              "      <td>Yes</td>\n",
              "      <td>2</td>\n",
              "      <td>0</td>\n",
              "      <td>No</td>\n",
              "      <td>53.85</td>\n",
              "      <td>Yes</td>\n",
              "    </tr>\n",
              "    <tr>\n",
              "      <th>3</th>\n",
              "      <td>No</td>\n",
              "      <td>45</td>\n",
              "      <td>0</td>\n",
              "      <td>No</td>\n",
              "      <td>42.30</td>\n",
              "      <td>No</td>\n",
              "    </tr>\n",
              "    <tr>\n",
              "      <th>4</th>\n",
              "      <td>Yes</td>\n",
              "      <td>2</td>\n",
              "      <td>0</td>\n",
              "      <td>No</td>\n",
              "      <td>70.70</td>\n",
              "      <td>Yes</td>\n",
              "    </tr>\n",
              "  </tbody>\n",
              "</table>\n",
              "</div>"
            ],
            "text/plain": [
              "  Churn  tenure  SeniorCitizen Dependents  MonthlyCharges PaperlessBilling\n",
              "0    No       1              0         No           29.85              Yes\n",
              "1    No      34              0         No           56.95               No\n",
              "2   Yes       2              0         No           53.85              Yes\n",
              "3    No      45              0         No           42.30               No\n",
              "4   Yes       2              0         No           70.70              Yes"
            ]
          },
          "metadata": {},
          "execution_count": 31
        }
      ]
    },
    {
      "cell_type": "markdown",
      "metadata": {
        "id": "DgTVPg6zk7VL"
      },
      "source": [
        "- **Churn** - ушёл клиент или нет\n",
        "- **tenure** - сколько месяцев пробыл с компанией\n",
        "- **SeniorCitizen** - клиент пожилой или нет\n",
        "- **Dependents** - есть иждивенцы в семье или нет\n",
        "- **MonthlyCharges** - сколько клиент платит в месяц\n",
        "- **PaperlessBilling** - оплата с чеком или бесчековая"
      ]
    },
    {
      "cell_type": "markdown",
      "metadata": {
        "id": "yL81-PwIk7VL"
      },
      "source": [
        "Распределение оттока:"
      ]
    },
    {
      "cell_type": "code",
      "metadata": {
        "colab": {
          "base_uri": "https://localhost:8080/",
          "height": 312
        },
        "id": "vwaZ6SOPk7VL",
        "outputId": "ba7b42a8-324c-4065-8f43-604223335065"
      },
      "source": [
        "sns.countplot(x = 'Churn', data = churn)\n",
        "plt.xlabel('Ушёл ли клиент?')\n",
        "plt.ylabel('Количество')\n",
        "plt.title('Судьба клиентов компании')"
      ],
      "execution_count": 32,
      "outputs": [
        {
          "output_type": "execute_result",
          "data": {
            "text/plain": [
              "Text(0.5, 1.0, 'Судьба клиентов компании')"
            ]
          },
          "metadata": {},
          "execution_count": 32
        },
        {
          "output_type": "display_data",
          "data": {
            "image/png": "[encoded data removed]",
            "text/plain": [
              "<Figure size 432x288 with 1 Axes>"
            ]
          },
          "metadata": {
            "needs_background": "light"
          }
        }
      ]
    },
    {
      "cell_type": "markdown",
      "metadata": {
        "id": "frBJyN1Uk7VM"
      },
      "source": [
        "Распределение, сколько люди месяцев проводят с компанией:"
      ]
    },
    {
      "cell_type": "code",
      "metadata": {
        "colab": {
          "base_uri": "https://localhost:8080/",
          "height": 367
        },
        "id": "GKExcuoAk7VM",
        "outputId": "40bf079c-6323-4c3f-8bcf-10e9a84d8023"
      },
      "source": [
        "sns.distplot(churn.tenure, kde = False)\n",
        "plt.xlabel('Количество месяцев')\n",
        "plt.ylabel('Частота')\n",
        "plt.title('Сколько времени клиенты провели с компанией')"
      ],
      "execution_count": 35,
      "outputs": [
        {
          "output_type": "stream",
          "name": "stderr",
          "text": [
            "/usr/local/lib/python3.7/dist-packages/seaborn/distributions.py:2619: FutureWarning: `distplot` is a deprecated function and will be removed in a future version. Please adapt your code to use either `displot` (a figure-level function with similar flexibility) or `histplot` (an axes-level function for histograms).\n",
            "  warnings.warn(msg, FutureWarning)\n"
          ]
        },
        {
          "output_type": "execute_result",
          "data": {
            "text/plain": [
              "Text(0.5, 1.0, 'Сколько времени клиенты провели с компанией')"
            ]
          },
          "metadata": {},
          "execution_count": 35
        },
        {
          "output_type": "display_data",
          "data": {
            "image/png": "[encoded data removed]",
            "text/plain": [
              "<Figure size 432x288 with 1 Axes>"
            ]
          },
          "metadata": {
            "needs_background": "light"
          }
        }
      ]
    },
    {
      "cell_type": "markdown",
      "metadata": {
        "id": "lpsTF2QYk7VM"
      },
      "source": [
        "Предварительно подготовим данные:"
      ]
    },
    {
      "cell_type": "code",
      "metadata": {
        "id": "SrakArJSk7VM"
      },
      "source": [
        "churn.tenure = churn.tenure + 0.001 #чтобы не было нулевых месяцев, т.к. функция связи в этой модели - логарифм и он не берется от 0\n",
        "churn.Churn = np.where(churn.Churn == 'Yes', 1, 0) #перекодируем в числа\n",
        "churn.SeniorCitizen = np.where(churn.SeniorCitizen == 1, 'Yes', 'No') #наоборот"
      ],
      "execution_count": null,
      "outputs": []
    },
    {
      "cell_type": "markdown",
      "metadata": {
        "id": "sH-IminFk7VN"
      },
      "source": [
        "Строим модель. Ей нужно указать данные, колонку со временем, колонку с событием, и опционально формулу."
      ]
    },
    {
      "cell_type": "code",
      "metadata": {
        "id": "4hXZnPDhk7VN",
        "outputId": "68413ed8-9e27-4643-8660-2dc6c1c5c2b8"
      },
      "source": [
        "surv = lf.WeibullAFTFitter()\n",
        "\n",
        "surv.fit(df = churn, duration_col = 'tenure', event_col = 'Churn', \\\n",
        "         formula = 'C(SeniorCitizen) + C(Dependents) + MonthlyCharges + C(PaperlessBilling)')"
      ],
      "execution_count": null,
      "outputs": [
        {
          "data": {
            "text/plain": [
              "<lifelines.WeibullAFTFitter: fitted with 7043 total observations, 5174 right-censored observations>"
            ]
          },
          "execution_count": 37,
          "metadata": {},
          "output_type": "execute_result"
        }
      ]
    },
    {
      "cell_type": "code",
      "metadata": {
        "id": "qJ_jmLkzk7VN",
        "outputId": "9611b76c-c2ae-4efd-b25c-c6572bd3f62c"
      },
      "source": [
        "surv.print_summary()"
      ],
      "execution_count": null,
      "outputs": [
        {
          "data": {
            "text/html": [
              "<div>\n",
              "<style scoped>\n",
              "    .dataframe tbody tr th:only-of-type {\n",
              "        vertical-align: middle;\n",
              "    }\n",
              "\n",
              "    .dataframe tbody tr th {\n",
              "        vertical-align: top;\n",
              "    }\n",
              "\n",
              "    .dataframe thead th {\n",
              "        text-align: right;\n",
              "    }\n",
              "</style>\n",
              "<table border=\"1\" class=\"dataframe\">\n",
              "  <tbody>\n",
              "    <tr>\n",
              "      <th>model</th>\n",
              "      <td>lifelines.WeibullAFTFitter</td>\n",
              "    </tr>\n",
              "    <tr>\n",
              "      <th>duration col</th>\n",
              "      <td>'tenure'</td>\n",
              "    </tr>\n",
              "    <tr>\n",
              "      <th>event col</th>\n",
              "      <td>'Churn'</td>\n",
              "    </tr>\n",
              "    <tr>\n",
              "      <th>number of observations</th>\n",
              "      <td>7043</td>\n",
              "    </tr>\n",
              "    <tr>\n",
              "      <th>number of events observed</th>\n",
              "      <td>1869</td>\n",
              "    </tr>\n",
              "    <tr>\n",
              "      <th>log-likelihood</th>\n",
              "      <td>-10355.96</td>\n",
              "    </tr>\n",
              "    <tr>\n",
              "      <th>time fit was run</th>\n",
              "      <td>2020-08-27 11:34:48 UTC</td>\n",
              "    </tr>\n",
              "  </tbody>\n",
              "</table>\n",
              "</div><table border=\"1\" class=\"dataframe\">\n",
              "  <thead>\n",
              "    <tr style=\"text-align: right;\">\n",
              "      <th style=\"min-width: 12px;\"></th>\n",
              "      <th style=\"min-width: 12px;\"></th>\n",
              "      <th style=\"min-width: 12px;\">coef</th>\n",
              "      <th style=\"min-width: 12px;\">exp(coef)</th>\n",
              "      <th style=\"min-width: 12px;\">se(coef)</th>\n",
              "      <th style=\"min-width: 12px;\">coef lower 95%</th>\n",
              "      <th style=\"min-width: 12px;\">coef upper 95%</th>\n",
              "      <th style=\"min-width: 12px;\">exp(coef) lower 95%</th>\n",
              "      <th style=\"min-width: 12px;\">exp(coef) upper 95%</th>\n",
              "      <th style=\"min-width: 12px;\">z</th>\n",
              "      <th style=\"min-width: 12px;\">p</th>\n",
              "      <th style=\"min-width: 12px;\">-log2(p)</th>\n",
              "    </tr>\n",
              "  </thead>\n",
              "  <tbody>\n",
              "    <tr>\n",
              "      <th rowspan=\"5\" valign=\"top\">lambda_</th>\n",
              "      <th>Intercept</th>\n",
              "      <td>5.84</td>\n",
              "      <td>344.19</td>\n",
              "      <td>0.12</td>\n",
              "      <td>5.61</td>\n",
              "      <td>6.08</td>\n",
              "      <td>272.31</td>\n",
              "      <td>435.03</td>\n",
              "      <td>48.88</td>\n",
              "      <td>&lt;0.005</td>\n",
              "      <td>inf</td>\n",
              "    </tr>\n",
              "    <tr>\n",
              "      <th>C(SeniorCitizen)[T.Yes]</th>\n",
              "      <td>-0.38</td>\n",
              "      <td>0.69</td>\n",
              "      <td>0.09</td>\n",
              "      <td>-0.54</td>\n",
              "      <td>-0.21</td>\n",
              "      <td>0.58</td>\n",
              "      <td>0.81</td>\n",
              "      <td>-4.44</td>\n",
              "      <td>&lt;0.005</td>\n",
              "      <td>16.75</td>\n",
              "    </tr>\n",
              "    <tr>\n",
              "      <th>C(Dependents)[T.Yes]</th>\n",
              "      <td>1.21</td>\n",
              "      <td>3.34</td>\n",
              "      <td>0.10</td>\n",
              "      <td>1.02</td>\n",
              "      <td>1.40</td>\n",
              "      <td>2.76</td>\n",
              "      <td>4.05</td>\n",
              "      <td>12.38</td>\n",
              "      <td>&lt;0.005</td>\n",
              "      <td>114.48</td>\n",
              "    </tr>\n",
              "    <tr>\n",
              "      <th>C(PaperlessBilling)[T.Yes]</th>\n",
              "      <td>-0.91</td>\n",
              "      <td>0.40</td>\n",
              "      <td>0.09</td>\n",
              "      <td>-1.08</td>\n",
              "      <td>-0.74</td>\n",
              "      <td>0.34</td>\n",
              "      <td>0.48</td>\n",
              "      <td>-10.31</td>\n",
              "      <td>&lt;0.005</td>\n",
              "      <td>80.37</td>\n",
              "    </tr>\n",
              "    <tr>\n",
              "      <th>MonthlyCharges</th>\n",
              "      <td>-0.00</td>\n",
              "      <td>1.00</td>\n",
              "      <td>0.00</td>\n",
              "      <td>-0.00</td>\n",
              "      <td>0.00</td>\n",
              "      <td>1.00</td>\n",
              "      <td>1.00</td>\n",
              "      <td>-0.85</td>\n",
              "      <td>0.39</td>\n",
              "      <td>1.35</td>\n",
              "    </tr>\n",
              "    <tr>\n",
              "      <th>rho_</th>\n",
              "      <th>Intercept</th>\n",
              "      <td>-0.43</td>\n",
              "      <td>0.65</td>\n",
              "      <td>0.02</td>\n",
              "      <td>-0.47</td>\n",
              "      <td>-0.39</td>\n",
              "      <td>0.63</td>\n",
              "      <td>0.68</td>\n",
              "      <td>-20.70</td>\n",
              "      <td>&lt;0.005</td>\n",
              "      <td>313.93</td>\n",
              "    </tr>\n",
              "  </tbody>\n",
              "</table><br><div>\n",
              "<style scoped>\n",
              "    .dataframe tbody tr th:only-of-type {\n",
              "        vertical-align: middle;\n",
              "    }\n",
              "\n",
              "    .dataframe tbody tr th {\n",
              "        vertical-align: top;\n",
              "    }\n",
              "\n",
              "    .dataframe thead th {\n",
              "        text-align: right;\n",
              "    }\n",
              "</style>\n",
              "<table border=\"1\" class=\"dataframe\">\n",
              "  <tbody>\n",
              "    <tr>\n",
              "      <th>Concordance</th>\n",
              "      <td>0.62</td>\n",
              "    </tr>\n",
              "    <tr>\n",
              "      <th>AIC</th>\n",
              "      <td>20723.91</td>\n",
              "    </tr>\n",
              "    <tr>\n",
              "      <th>log-likelihood ratio test</th>\n",
              "      <td>441.19 on 4 df</td>\n",
              "    </tr>\n",
              "    <tr>\n",
              "      <th>-log2(p) of ll-ratio test</th>\n",
              "      <td>310.46</td>\n",
              "    </tr>\n",
              "  </tbody>\n",
              "</table>\n",
              "</div>"
            ],
            "text/latex": [
              "\\begin{tabular}{llrrrrrrrrrr}\n",
              "\\toprule\n",
              "     &           &  coef &  exp(coef) &  se(coef) &  coef lower 95\\% &  coef upper 95\\% &  exp(coef) lower 95\\% &  exp(coef) upper 95\\% &      z &    p &  -log2(p) \\\\\n",
              "param & covariate &       &            &           &                 &                 &                      &                      &        &      &           \\\\\n",
              "\\midrule\n",
              "lambda\\_ & Intercept &  5.84 &     344.19 &      0.12 &            5.61 &            6.08 &               272.31 &               435.03 &  48.88 & 0.00 &       inf \\\\\n",
              "     & C(SeniorCitizen)[T.Yes] & -0.38 &       0.69 &      0.09 &           -0.54 &           -0.21 &                 0.58 &                 0.81 &  -4.44 & 0.00 &     16.75 \\\\\n",
              "     & C(Dependents)[T.Yes] &  1.21 &       3.34 &      0.10 &            1.02 &            1.40 &                 2.76 &                 4.05 &  12.38 & 0.00 &    114.48 \\\\\n",
              "     & C(PaperlessBilling)[T.Yes] & -0.91 &       0.40 &      0.09 &           -1.08 &           -0.74 &                 0.34 &                 0.48 & -10.31 & 0.00 &     80.37 \\\\\n",
              "     & MonthlyCharges & -0.00 &       1.00 &      0.00 &           -0.00 &            0.00 &                 1.00 &                 1.00 &  -0.85 & 0.39 &      1.35 \\\\\n",
              "rho\\_ & Intercept & -0.43 &       0.65 &      0.02 &           -0.47 &           -0.39 &                 0.63 &                 0.68 & -20.70 & 0.00 &    313.93 \\\\\n",
              "\\bottomrule\n",
              "\\end{tabular}\n"
            ],
            "text/plain": [
              "<lifelines.WeibullAFTFitter: fitted with 7043 total observations, 5174 right-censored observations>\n",
              "             duration col = 'tenure'\n",
              "                event col = 'Churn'\n",
              "   number of observations = 7043\n",
              "number of events observed = 1869\n",
              "           log-likelihood = -10355.96\n",
              "         time fit was run = 2020-08-27 11:34:48 UTC\n",
              "\n",
              "---\n",
              "                                     coef  exp(coef)   se(coef)   coef lower 95%   coef upper 95%  exp(coef) lower 95%  exp(coef) upper 95%\n",
              "param   covariate                                                                                                                          \n",
              "lambda_ Intercept                    5.84     344.19       0.12             5.61             6.08               272.31               435.03\n",
              "        C(SeniorCitizen)[T.Yes]     -0.38       0.69       0.09            -0.54            -0.21                 0.58                 0.81\n",
              "        C(Dependents)[T.Yes]         1.21       3.34       0.10             1.02             1.40                 2.76                 4.05\n",
              "        C(PaperlessBilling)[T.Yes]  -0.91       0.40       0.09            -1.08            -0.74                 0.34                 0.48\n",
              "        MonthlyCharges              -0.00       1.00       0.00            -0.00             0.00                 1.00                 1.00\n",
              "rho_    Intercept                   -0.43       0.65       0.02            -0.47            -0.39                 0.63                 0.68\n",
              "                                        z      p   -log2(p)\n",
              "param   covariate                                          \n",
              "lambda_ Intercept                   48.88 <0.005        inf\n",
              "        C(SeniorCitizen)[T.Yes]     -4.44 <0.005      16.75\n",
              "        C(Dependents)[T.Yes]        12.38 <0.005     114.48\n",
              "        C(PaperlessBilling)[T.Yes] -10.31 <0.005      80.37\n",
              "        MonthlyCharges              -0.85   0.39       1.35\n",
              "rho_    Intercept                  -20.70 <0.005     313.93\n",
              "---\n",
              "Concordance = 0.62\n",
              "AIC = 20723.91\n",
              "log-likelihood ratio test = 441.19 on 4 df\n",
              "-log2(p) of ll-ratio test = 310.46"
            ]
          },
          "metadata": {},
          "output_type": "display_data"
        }
      ]
    },
    {
      "cell_type": "markdown",
      "metadata": {
        "id": "SZpC-GxCk7VN"
      },
      "source": [
        "Если коэффициент меньше нуля - время до события короче.\n",
        "Если коэффициент больше нуля - время до события дольше."
      ]
    },
    {
      "cell_type": "markdown",
      "metadata": {
        "id": "JqNOU8IHk7VN"
      },
      "source": [
        "Интерпретация:\n",
        "\n",
        "* Пожилые люди меньше времени пользуются сервисом\n",
        "* Те, у кого бесчековая оплата - ещё меньше\n",
        "\n",
        "* Люди с иждивенциами пользуются им больше обычного"
      ]
    },
    {
      "cell_type": "markdown",
      "metadata": {
        "id": "s-DM9OUhk7VO"
      },
      "source": [
        "Для интересующихся, что такое **-log2(p)**, читать вот [эту статью](https://lesslikely.com/statistics/s-values).\n",
        "\n",
        "Интерпритировать их можно, как если бы мы подкинули монетку 81 раз и при этом выпала 1 решка в случае переменной C(PaperlessBilling)[T.Yes] - т.е. очень маловероятное событие для нулевой гипотезы и из этого можно сделать вывод о стат значимости нашего результата"
      ]
    },
    {
      "cell_type": "markdown",
      "metadata": {
        "id": "0A50btU_k7VO"
      },
      "source": [
        "### Summary"
      ]
    },
    {
      "cell_type": "markdown",
      "metadata": {
        "id": "8jgA4V6rk7VO"
      },
      "source": [
        "* Переменная из двух категорий – биномиальная регрессия\n",
        "* Категорий больше – мультиномиальная\n",
        "* В категориях есть явное убывание или нарастание – порядковая\n",
        "* Считаем количество чего-то – Пуассоновская\n",
        "  - Дисперсия больше среднего – отрицательно-биномиальная\n",
        "  Слишком много нулей – zero-inflated-модель\n",
        "* У нас есть какое-то событие и время до него – анализ выживаемости\n"
      ]
    },
    {
      "cell_type": "code",
      "metadata": {
        "id": "OqYpzPGBk7VO"
      },
      "source": [
        ""
      ],
      "execution_count": null,
      "outputs": []
    }
  ]
}