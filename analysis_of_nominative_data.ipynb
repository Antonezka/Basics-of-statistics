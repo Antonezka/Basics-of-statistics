{
  "nbformat": 4,
  "nbformat_minor": 0,
  "metadata": {
    "colab": {
      "name": "analysis of nominative data.ipynb",
      "provenance": []
    },
    "kernelspec": {
      "name": "python3",
      "display_name": "Python 3"
    },
    "language_info": {
      "name": "python"
    }
  },
  "cells": [
    {
      "cell_type": "code",
      "metadata": {
        "id": "q_y7hFrBeD8t"
      },
      "source": [
        "from scipy import stats\n",
        "import pandas as pd\n",
        "import numpy as np\n",
        "from statsmodels.graphics.mosaicplot import mosaic\n",
        "\n",
        "from itertools import product\n",
        "import matplotlib.pyplot as plt\n",
        "import seaborn as sns\n",
        "import matplotlib.patches as mpatches"
      ],
      "execution_count": 28,
      "outputs": []
    },
    {
      "cell_type": "markdown",
      "metadata": {
        "id": "aQMNdB0PeXhR"
      },
      "source": [
        "Рассчет <strong><i>χ², p-value, степеней свобод, ожидаемых наблюдений</i><strong> "
      ]
    },
    {
      "cell_type": "code",
      "metadata": {
        "colab": {
          "base_uri": "https://localhost:8080/"
        },
        "id": "WvBst4Cy6C8c",
        "outputId": "f18c759f-b98c-4229-e4d7-19562b956250"
      },
      "source": [
        "chi2, p_value, dof, ev = stats.chi2_contingency(([20,15],[11,12],[7,9]))\n",
        "print(f'''\n",
        "Хи квадрат {chi2}\n",
        "p - value {p_value}\n",
        "Степеней свобод {dof}\n",
        "Ожидаемые наблюдения\n",
        "{ev}\n",
        "''')"
      ],
      "execution_count": 25,
      "outputs": [
        {
          "output_type": "stream",
          "name": "stdout",
          "text": [
            "\n",
            "Хи квадрат 0.9544070774762996\n",
            "p - value 0.6205162173513055\n",
            "Степеней свобод 2\n",
            "Ожидаемые наблюдения\n",
            "[[17.97297297 17.02702703]\n",
            " [11.81081081 11.18918919]\n",
            " [ 8.21621622  7.78378378]]\n",
            "\n"
          ]
        }
      ]
    },
    {
      "cell_type": "markdown",
      "metadata": {
        "id": "NlbI5EX8fm1r"
      },
      "source": [
        "Анализ разницы между ожидаемыми и эмпирическими значениями позволяет выявить, какие именно частоты значимо отклоняются от ожидаемых значений.\n",
        "\n",
        "Продемонстрируем это на следующей таблице"
      ]
    },
    {
      "cell_type": "code",
      "metadata": {
        "colab": {
          "base_uri": "https://localhost:8080/",
          "height": 111
        },
        "id": "jWQD2Ibz-ayq",
        "outputId": "33b645d1-68ba-4de2-8beb-4c5cb6456c69"
      },
      "source": [
        "df = pd.DataFrame({'Есть тромбоз': [18, 6], 'Нет тромбоза': [7, 13]}) \n",
        "df.index = ['Плацебо', 'Аспирин']\n",
        "df"
      ],
      "execution_count": 26,
      "outputs": [
        {
          "output_type": "execute_result",
          "data": {
            "text/html": [
              "<div>\n",
              "<style scoped>\n",
              "    .dataframe tbody tr th:only-of-type {\n",
              "        vertical-align: middle;\n",
              "    }\n",
              "\n",
              "    .dataframe tbody tr th {\n",
              "        vertical-align: top;\n",
              "    }\n",
              "\n",
              "    .dataframe thead th {\n",
              "        text-align: right;\n",
              "    }\n",
              "</style>\n",
              "<table border=\"1\" class=\"dataframe\">\n",
              "  <thead>\n",
              "    <tr style=\"text-align: right;\">\n",
              "      <th></th>\n",
              "      <th>Есть тромбоз</th>\n",
              "      <th>Нет тромбоза</th>\n",
              "    </tr>\n",
              "  </thead>\n",
              "  <tbody>\n",
              "    <tr>\n",
              "      <th>Плацебо</th>\n",
              "      <td>18</td>\n",
              "      <td>7</td>\n",
              "    </tr>\n",
              "    <tr>\n",
              "      <th>Аспирин</th>\n",
              "      <td>6</td>\n",
              "      <td>13</td>\n",
              "    </tr>\n",
              "  </tbody>\n",
              "</table>\n",
              "</div>"
            ],
            "text/plain": [
              "         Есть тромбоз  Нет тромбоза\n",
              "Плацебо            18             7\n",
              "Аспирин             6            13"
            ]
          },
          "metadata": {},
          "execution_count": 26
        }
      ]
    },
    {
      "cell_type": "code",
      "metadata": {
        "colab": {
          "base_uri": "https://localhost:8080/",
          "height": 269
        },
        "id": "TYI7o40f9Gbw",
        "outputId": "4b7381de-ab75-4544-d9fb-7b01ce5c9ac6"
      },
      "source": [
        "data = {('Normal', 'Aspirine'): 18, \n",
        "             ('Normal', 'Placebo'): 7,\n",
        "             ('Trombosis', 'Aspirine'): 6,\n",
        "             ('Trombosis', 'Placebo'): 13\n",
        "            }\n",
        "\n",
        "plot = mosaic(data, gap=0.05)"
      ],
      "execution_count": 27,
      "outputs": [
        {
          "output_type": "display_data",
          "data": {
            "image/png": "[encoded data removed]",
            "text/plain": [
              "<Figure size 432x288 with 3 Axes>"
            ]
          },
          "metadata": {
            "needs_background": "light"
          }
        }
      ]
    },
    {
      "cell_type": "markdown",
      "metadata": {
        "id": "1TjiND41Kv8a"
      },
      "source": [
        "Разберемся, как здесь отображены наши данные. \n",
        "\n",
        "Ширина и высота каждого прямоугольника пропорциональны наблюдаемым частотам в соответствующих строках и столбцах. Цвет прямоугольника показывает величину стандартизированного остатка.\n",
        "\n",
        "Чтобы можно было понять выличину этого остатка, напишем функция, которая закрашевает прямоугольники в зависимости от величины остатка. если он по модулю больше 2, то прямоугольник будет полупрозрачным и можно отвергать нулевую гипотезу об ожидаемом распределении, если больше 4, то соответствующий прямоугольник будет закрашен. "
      ]
    },
    {
      "cell_type": "code",
      "metadata": {
        "id": "nDvbz-f_MmnF"
      },
      "source": [
        "def make_me_plot(data):\n",
        "    # Проводим анализ таблиц сопряженности\n",
        "    data = data.copy()\n",
        "    obs = data.unstack().T.values # делаем из таблицы матрицу\n",
        "    chi, pval, dof, est = chi2_contingency(obs)\n",
        "    remains = (obs - est)  / np.sqrt(est)\n",
        "    \n",
        "    # Присваиваем соответствующие цвета\n",
        "    hex_colors = sns.color_palette(\"coolwarm\", 6).as_hex()\n",
        "    color_labels = ['<-4', '-4:-2', '-2:0', '0:2', '2:4', '>4'][::-1] #обратный порядок\n",
        "    colors = pd.Series([x  for x in remains.ravel()], index=data.index, name='color')\n",
        "    valrange = np.array([-np.inf, -4, -2, 0, 2, 4, np.inf])\n",
        "    color_prop = {k: {'color' : hex_colors[np.argmax(v < valrange) - 1]}  for k, v in colors.iteritems()}\n",
        "    patches = [mpatches.Patch(color=c, label=l) for c, l in zip(hex_colors, color_labels)]\n",
        "    # Передаем все данные matplotlib\n",
        "    fig, ax = plt.subplots()\n",
        "    mosaic(data, gap=.02, properties=color_prop, ax=ax, labelizer= lambda x: '')\n",
        "    fig.legend(handles=patches, bbox_to_anchor=(0.6, 0., 0.5, 0.5))"
      ],
      "execution_count": 48,
      "outputs": []
    },
    {
      "cell_type": "code",
      "metadata": {
        "colab": {
          "base_uri": "https://localhost:8080/",
          "height": 269
        },
        "id": "p-buNs_iMrPV",
        "outputId": "11f045c6-4516-41ca-b45f-ff3f3b142644"
      },
      "source": [
        "cure = ['Placebo', 'Aspirine']\n",
        "effect = ['Normal', 'Trombosis']\n",
        "idx = pd.MultiIndex.from_tuples(product(cure, effect))\n",
        "data = pd.Series([7, 13, 18, 6], index=idx)\n",
        "make_me_plot(data)"
      ],
      "execution_count": 49,
      "outputs": [
        {
          "output_type": "display_data",
          "data": {
            "image/png": "[encoded data removed]",
            "text/plain": [
              "<Figure size 432x288 with 3 Axes>"
            ]
          },
          "metadata": {
            "needs_background": "light"
          }
        }
      ]
    }
  ]
}